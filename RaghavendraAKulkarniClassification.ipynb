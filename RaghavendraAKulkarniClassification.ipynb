{
  "nbformat": 4,
  "nbformat_minor": 0,
  "metadata": {
    "colab": {
      "name": "RaghavendraAKulkarniClassification.ipynb",
      "provenance": [],
      "mount_file_id": "1m_A9NeVEN2wKlHfsemm7Y9Qr9BA19rw9",
      "authorship_tag": "ABX9TyMPcsClIrAHvfZUDN6kMh2O",
      "include_colab_link": true
    },
    "kernelspec": {
      "name": "python3",
      "display_name": "Python 3"
    },
    "language_info": {
      "name": "python"
    }
  },
  "cells": [
    {
      "cell_type": "markdown",
      "metadata": {
        "id": "view-in-github",
        "colab_type": "text"
      },
      "source": [
        "<a href=\"https://colab.research.google.com/github/raghavendrakulkarni14/Cardiovascular_risk_prediction_classification/blob/main/RaghavendraAKulkarniClassification.ipynb\" target=\"_parent\"><img src=\"https://colab.research.google.com/assets/colab-badge.svg\" alt=\"Open In Colab\"/></a>"
      ]
    },
    {
      "cell_type": "code",
      "metadata": {
        "id": "MRiMPaNpYO3c"
      },
      "source": [
        "#importing the necessary libraries\n",
        "import numpy as np\n",
        "import pandas as pd\n",
        "import matplotlib.pyplot as plt\n",
        "%matplotlib inline\n",
        "import seaborn as sns\n",
        "from sklearn.metrics import accuracy_score, f1_score, precision_score, recall_score, classification_report, confusion_matrix,roc_auc_score\n",
        "import warnings\n",
        "warnings.filterwarnings('ignore')"
      ],
      "execution_count": 1,
      "outputs": []
    },
    {
      "cell_type": "code",
      "metadata": {
        "colab": {
          "base_uri": "https://localhost:8080/"
        },
        "id": "LNWwtDtPY6VC",
        "outputId": "fd963b1d-c9cb-460f-b116-cdce674d3213"
      },
      "source": [
        "#mounting the drive to access the dataset\n",
        "from google.colab import drive\n",
        "drive.mount('/content/drive')"
      ],
      "execution_count": 2,
      "outputs": [
        {
          "output_type": "stream",
          "name": "stdout",
          "text": [
            "Drive already mounted at /content/drive; to attempt to forcibly remount, call drive.mount(\"/content/drive\", force_remount=True).\n"
          ]
        }
      ]
    },
    {
      "cell_type": "code",
      "metadata": {
        "id": "efxrtC_jZKc1"
      },
      "source": [
        "#reading the dataset using pandas library\n",
        "df=pd.read_csv('/content/drive/MyDrive/Alma Capstone -3 classification/data_cardiovascular_risk.csv')"
      ],
      "execution_count": 3,
      "outputs": []
    },
    {
      "cell_type": "code",
      "metadata": {
        "colab": {
          "base_uri": "https://localhost:8080/",
          "height": 203
        },
        "id": "vGTzPYtZZKfr",
        "outputId": "94b2d56f-6d61-4433-ff86-f3bc26ff6fd3"
      },
      "source": [
        "#brief look over the dataset\n",
        "df.head()"
      ],
      "execution_count": 4,
      "outputs": [
        {
          "output_type": "execute_result",
          "data": {
            "text/html": [
              "<div>\n",
              "<style scoped>\n",
              "    .dataframe tbody tr th:only-of-type {\n",
              "        vertical-align: middle;\n",
              "    }\n",
              "\n",
              "    .dataframe tbody tr th {\n",
              "        vertical-align: top;\n",
              "    }\n",
              "\n",
              "    .dataframe thead th {\n",
              "        text-align: right;\n",
              "    }\n",
              "</style>\n",
              "<table border=\"1\" class=\"dataframe\">\n",
              "  <thead>\n",
              "    <tr style=\"text-align: right;\">\n",
              "      <th></th>\n",
              "      <th>id</th>\n",
              "      <th>age</th>\n",
              "      <th>education</th>\n",
              "      <th>sex</th>\n",
              "      <th>is_smoking</th>\n",
              "      <th>cigsPerDay</th>\n",
              "      <th>BPMeds</th>\n",
              "      <th>prevalentStroke</th>\n",
              "      <th>prevalentHyp</th>\n",
              "      <th>diabetes</th>\n",
              "      <th>totChol</th>\n",
              "      <th>sysBP</th>\n",
              "      <th>diaBP</th>\n",
              "      <th>BMI</th>\n",
              "      <th>heartRate</th>\n",
              "      <th>glucose</th>\n",
              "      <th>TenYearCHD</th>\n",
              "    </tr>\n",
              "  </thead>\n",
              "  <tbody>\n",
              "    <tr>\n",
              "      <th>0</th>\n",
              "      <td>0</td>\n",
              "      <td>64</td>\n",
              "      <td>2.0</td>\n",
              "      <td>F</td>\n",
              "      <td>YES</td>\n",
              "      <td>3.0</td>\n",
              "      <td>0.0</td>\n",
              "      <td>0</td>\n",
              "      <td>0</td>\n",
              "      <td>0</td>\n",
              "      <td>221.0</td>\n",
              "      <td>148.0</td>\n",
              "      <td>85.0</td>\n",
              "      <td>NaN</td>\n",
              "      <td>90.0</td>\n",
              "      <td>80.0</td>\n",
              "      <td>1</td>\n",
              "    </tr>\n",
              "    <tr>\n",
              "      <th>1</th>\n",
              "      <td>1</td>\n",
              "      <td>36</td>\n",
              "      <td>4.0</td>\n",
              "      <td>M</td>\n",
              "      <td>NO</td>\n",
              "      <td>0.0</td>\n",
              "      <td>0.0</td>\n",
              "      <td>0</td>\n",
              "      <td>1</td>\n",
              "      <td>0</td>\n",
              "      <td>212.0</td>\n",
              "      <td>168.0</td>\n",
              "      <td>98.0</td>\n",
              "      <td>29.77</td>\n",
              "      <td>72.0</td>\n",
              "      <td>75.0</td>\n",
              "      <td>0</td>\n",
              "    </tr>\n",
              "    <tr>\n",
              "      <th>2</th>\n",
              "      <td>2</td>\n",
              "      <td>46</td>\n",
              "      <td>1.0</td>\n",
              "      <td>F</td>\n",
              "      <td>YES</td>\n",
              "      <td>10.0</td>\n",
              "      <td>0.0</td>\n",
              "      <td>0</td>\n",
              "      <td>0</td>\n",
              "      <td>0</td>\n",
              "      <td>250.0</td>\n",
              "      <td>116.0</td>\n",
              "      <td>71.0</td>\n",
              "      <td>20.35</td>\n",
              "      <td>88.0</td>\n",
              "      <td>94.0</td>\n",
              "      <td>0</td>\n",
              "    </tr>\n",
              "    <tr>\n",
              "      <th>3</th>\n",
              "      <td>3</td>\n",
              "      <td>50</td>\n",
              "      <td>1.0</td>\n",
              "      <td>M</td>\n",
              "      <td>YES</td>\n",
              "      <td>20.0</td>\n",
              "      <td>0.0</td>\n",
              "      <td>0</td>\n",
              "      <td>1</td>\n",
              "      <td>0</td>\n",
              "      <td>233.0</td>\n",
              "      <td>158.0</td>\n",
              "      <td>88.0</td>\n",
              "      <td>28.26</td>\n",
              "      <td>68.0</td>\n",
              "      <td>94.0</td>\n",
              "      <td>1</td>\n",
              "    </tr>\n",
              "    <tr>\n",
              "      <th>4</th>\n",
              "      <td>4</td>\n",
              "      <td>64</td>\n",
              "      <td>1.0</td>\n",
              "      <td>F</td>\n",
              "      <td>YES</td>\n",
              "      <td>30.0</td>\n",
              "      <td>0.0</td>\n",
              "      <td>0</td>\n",
              "      <td>0</td>\n",
              "      <td>0</td>\n",
              "      <td>241.0</td>\n",
              "      <td>136.5</td>\n",
              "      <td>85.0</td>\n",
              "      <td>26.42</td>\n",
              "      <td>70.0</td>\n",
              "      <td>77.0</td>\n",
              "      <td>0</td>\n",
              "    </tr>\n",
              "  </tbody>\n",
              "</table>\n",
              "</div>"
            ],
            "text/plain": [
              "   id  age  education sex  ...    BMI  heartRate  glucose  TenYearCHD\n",
              "0   0   64        2.0   F  ...    NaN       90.0     80.0           1\n",
              "1   1   36        4.0   M  ...  29.77       72.0     75.0           0\n",
              "2   2   46        1.0   F  ...  20.35       88.0     94.0           0\n",
              "3   3   50        1.0   M  ...  28.26       68.0     94.0           1\n",
              "4   4   64        1.0   F  ...  26.42       70.0     77.0           0\n",
              "\n",
              "[5 rows x 17 columns]"
            ]
          },
          "metadata": {},
          "execution_count": 4
        }
      ]
    },
    {
      "cell_type": "code",
      "metadata": {
        "colab": {
          "base_uri": "https://localhost:8080/"
        },
        "id": "gmWpMs5vZKhx",
        "outputId": "fcb3c0ca-75ce-44c1-e876-b56d3c59740a"
      },
      "source": [
        "#looking at the datatypes of the variables\n",
        "df.info()\n"
      ],
      "execution_count": 5,
      "outputs": [
        {
          "output_type": "stream",
          "name": "stdout",
          "text": [
            "<class 'pandas.core.frame.DataFrame'>\n",
            "RangeIndex: 3390 entries, 0 to 3389\n",
            "Data columns (total 17 columns):\n",
            " #   Column           Non-Null Count  Dtype  \n",
            "---  ------           --------------  -----  \n",
            " 0   id               3390 non-null   int64  \n",
            " 1   age              3390 non-null   int64  \n",
            " 2   education        3303 non-null   float64\n",
            " 3   sex              3390 non-null   object \n",
            " 4   is_smoking       3390 non-null   object \n",
            " 5   cigsPerDay       3368 non-null   float64\n",
            " 6   BPMeds           3346 non-null   float64\n",
            " 7   prevalentStroke  3390 non-null   int64  \n",
            " 8   prevalentHyp     3390 non-null   int64  \n",
            " 9   diabetes         3390 non-null   int64  \n",
            " 10  totChol          3352 non-null   float64\n",
            " 11  sysBP            3390 non-null   float64\n",
            " 12  diaBP            3390 non-null   float64\n",
            " 13  BMI              3376 non-null   float64\n",
            " 14  heartRate        3389 non-null   float64\n",
            " 15  glucose          3086 non-null   float64\n",
            " 16  TenYearCHD       3390 non-null   int64  \n",
            "dtypes: float64(9), int64(6), object(2)\n",
            "memory usage: 450.4+ KB\n"
          ]
        }
      ]
    },
    {
      "cell_type": "code",
      "metadata": {
        "colab": {
          "base_uri": "https://localhost:8080/",
          "height": 315
        },
        "id": "qZ4saFrhZKkS",
        "outputId": "c2ad0e5f-ad8d-4f8c-cc79-4879d0ac8e13"
      },
      "source": [
        "df.describe()"
      ],
      "execution_count": 6,
      "outputs": [
        {
          "output_type": "execute_result",
          "data": {
            "text/html": [
              "<div>\n",
              "<style scoped>\n",
              "    .dataframe tbody tr th:only-of-type {\n",
              "        vertical-align: middle;\n",
              "    }\n",
              "\n",
              "    .dataframe tbody tr th {\n",
              "        vertical-align: top;\n",
              "    }\n",
              "\n",
              "    .dataframe thead th {\n",
              "        text-align: right;\n",
              "    }\n",
              "</style>\n",
              "<table border=\"1\" class=\"dataframe\">\n",
              "  <thead>\n",
              "    <tr style=\"text-align: right;\">\n",
              "      <th></th>\n",
              "      <th>id</th>\n",
              "      <th>age</th>\n",
              "      <th>education</th>\n",
              "      <th>cigsPerDay</th>\n",
              "      <th>BPMeds</th>\n",
              "      <th>prevalentStroke</th>\n",
              "      <th>prevalentHyp</th>\n",
              "      <th>diabetes</th>\n",
              "      <th>totChol</th>\n",
              "      <th>sysBP</th>\n",
              "      <th>diaBP</th>\n",
              "      <th>BMI</th>\n",
              "      <th>heartRate</th>\n",
              "      <th>glucose</th>\n",
              "      <th>TenYearCHD</th>\n",
              "    </tr>\n",
              "  </thead>\n",
              "  <tbody>\n",
              "    <tr>\n",
              "      <th>count</th>\n",
              "      <td>3390.000000</td>\n",
              "      <td>3390.000000</td>\n",
              "      <td>3303.000000</td>\n",
              "      <td>3368.000000</td>\n",
              "      <td>3346.000000</td>\n",
              "      <td>3390.000000</td>\n",
              "      <td>3390.000000</td>\n",
              "      <td>3390.000000</td>\n",
              "      <td>3352.000000</td>\n",
              "      <td>3390.00000</td>\n",
              "      <td>3390.000000</td>\n",
              "      <td>3376.000000</td>\n",
              "      <td>3389.000000</td>\n",
              "      <td>3086.000000</td>\n",
              "      <td>3390.000000</td>\n",
              "    </tr>\n",
              "    <tr>\n",
              "      <th>mean</th>\n",
              "      <td>1694.500000</td>\n",
              "      <td>49.542183</td>\n",
              "      <td>1.970936</td>\n",
              "      <td>9.069477</td>\n",
              "      <td>0.029886</td>\n",
              "      <td>0.006490</td>\n",
              "      <td>0.315339</td>\n",
              "      <td>0.025664</td>\n",
              "      <td>237.074284</td>\n",
              "      <td>132.60118</td>\n",
              "      <td>82.883038</td>\n",
              "      <td>25.794964</td>\n",
              "      <td>75.977279</td>\n",
              "      <td>82.086520</td>\n",
              "      <td>0.150737</td>\n",
              "    </tr>\n",
              "    <tr>\n",
              "      <th>std</th>\n",
              "      <td>978.753033</td>\n",
              "      <td>8.592878</td>\n",
              "      <td>1.019081</td>\n",
              "      <td>11.879078</td>\n",
              "      <td>0.170299</td>\n",
              "      <td>0.080309</td>\n",
              "      <td>0.464719</td>\n",
              "      <td>0.158153</td>\n",
              "      <td>45.247430</td>\n",
              "      <td>22.29203</td>\n",
              "      <td>12.023581</td>\n",
              "      <td>4.115449</td>\n",
              "      <td>11.971868</td>\n",
              "      <td>24.244753</td>\n",
              "      <td>0.357846</td>\n",
              "    </tr>\n",
              "    <tr>\n",
              "      <th>min</th>\n",
              "      <td>0.000000</td>\n",
              "      <td>32.000000</td>\n",
              "      <td>1.000000</td>\n",
              "      <td>0.000000</td>\n",
              "      <td>0.000000</td>\n",
              "      <td>0.000000</td>\n",
              "      <td>0.000000</td>\n",
              "      <td>0.000000</td>\n",
              "      <td>107.000000</td>\n",
              "      <td>83.50000</td>\n",
              "      <td>48.000000</td>\n",
              "      <td>15.960000</td>\n",
              "      <td>45.000000</td>\n",
              "      <td>40.000000</td>\n",
              "      <td>0.000000</td>\n",
              "    </tr>\n",
              "    <tr>\n",
              "      <th>25%</th>\n",
              "      <td>847.250000</td>\n",
              "      <td>42.000000</td>\n",
              "      <td>1.000000</td>\n",
              "      <td>0.000000</td>\n",
              "      <td>0.000000</td>\n",
              "      <td>0.000000</td>\n",
              "      <td>0.000000</td>\n",
              "      <td>0.000000</td>\n",
              "      <td>206.000000</td>\n",
              "      <td>117.00000</td>\n",
              "      <td>74.500000</td>\n",
              "      <td>23.020000</td>\n",
              "      <td>68.000000</td>\n",
              "      <td>71.000000</td>\n",
              "      <td>0.000000</td>\n",
              "    </tr>\n",
              "    <tr>\n",
              "      <th>50%</th>\n",
              "      <td>1694.500000</td>\n",
              "      <td>49.000000</td>\n",
              "      <td>2.000000</td>\n",
              "      <td>0.000000</td>\n",
              "      <td>0.000000</td>\n",
              "      <td>0.000000</td>\n",
              "      <td>0.000000</td>\n",
              "      <td>0.000000</td>\n",
              "      <td>234.000000</td>\n",
              "      <td>128.50000</td>\n",
              "      <td>82.000000</td>\n",
              "      <td>25.380000</td>\n",
              "      <td>75.000000</td>\n",
              "      <td>78.000000</td>\n",
              "      <td>0.000000</td>\n",
              "    </tr>\n",
              "    <tr>\n",
              "      <th>75%</th>\n",
              "      <td>2541.750000</td>\n",
              "      <td>56.000000</td>\n",
              "      <td>3.000000</td>\n",
              "      <td>20.000000</td>\n",
              "      <td>0.000000</td>\n",
              "      <td>0.000000</td>\n",
              "      <td>1.000000</td>\n",
              "      <td>0.000000</td>\n",
              "      <td>264.000000</td>\n",
              "      <td>144.00000</td>\n",
              "      <td>90.000000</td>\n",
              "      <td>28.040000</td>\n",
              "      <td>83.000000</td>\n",
              "      <td>87.000000</td>\n",
              "      <td>0.000000</td>\n",
              "    </tr>\n",
              "    <tr>\n",
              "      <th>max</th>\n",
              "      <td>3389.000000</td>\n",
              "      <td>70.000000</td>\n",
              "      <td>4.000000</td>\n",
              "      <td>70.000000</td>\n",
              "      <td>1.000000</td>\n",
              "      <td>1.000000</td>\n",
              "      <td>1.000000</td>\n",
              "      <td>1.000000</td>\n",
              "      <td>696.000000</td>\n",
              "      <td>295.00000</td>\n",
              "      <td>142.500000</td>\n",
              "      <td>56.800000</td>\n",
              "      <td>143.000000</td>\n",
              "      <td>394.000000</td>\n",
              "      <td>1.000000</td>\n",
              "    </tr>\n",
              "  </tbody>\n",
              "</table>\n",
              "</div>"
            ],
            "text/plain": [
              "                id          age  ...      glucose   TenYearCHD\n",
              "count  3390.000000  3390.000000  ...  3086.000000  3390.000000\n",
              "mean   1694.500000    49.542183  ...    82.086520     0.150737\n",
              "std     978.753033     8.592878  ...    24.244753     0.357846\n",
              "min       0.000000    32.000000  ...    40.000000     0.000000\n",
              "25%     847.250000    42.000000  ...    71.000000     0.000000\n",
              "50%    1694.500000    49.000000  ...    78.000000     0.000000\n",
              "75%    2541.750000    56.000000  ...    87.000000     0.000000\n",
              "max    3389.000000    70.000000  ...   394.000000     1.000000\n",
              "\n",
              "[8 rows x 15 columns]"
            ]
          },
          "metadata": {},
          "execution_count": 6
        }
      ]
    },
    {
      "cell_type": "code",
      "metadata": {
        "colab": {
          "base_uri": "https://localhost:8080/",
          "height": 511
        },
        "id": "Qrngs_0TZKmt",
        "outputId": "bc4d722d-033f-46ae-f778-5b7c790afdde"
      },
      "source": [
        "#Knowing the correlation among the variables\n",
        "df.corr()"
      ],
      "execution_count": 7,
      "outputs": [
        {
          "output_type": "execute_result",
          "data": {
            "text/html": [
              "<div>\n",
              "<style scoped>\n",
              "    .dataframe tbody tr th:only-of-type {\n",
              "        vertical-align: middle;\n",
              "    }\n",
              "\n",
              "    .dataframe tbody tr th {\n",
              "        vertical-align: top;\n",
              "    }\n",
              "\n",
              "    .dataframe thead th {\n",
              "        text-align: right;\n",
              "    }\n",
              "</style>\n",
              "<table border=\"1\" class=\"dataframe\">\n",
              "  <thead>\n",
              "    <tr style=\"text-align: right;\">\n",
              "      <th></th>\n",
              "      <th>id</th>\n",
              "      <th>age</th>\n",
              "      <th>education</th>\n",
              "      <th>cigsPerDay</th>\n",
              "      <th>BPMeds</th>\n",
              "      <th>prevalentStroke</th>\n",
              "      <th>prevalentHyp</th>\n",
              "      <th>diabetes</th>\n",
              "      <th>totChol</th>\n",
              "      <th>sysBP</th>\n",
              "      <th>diaBP</th>\n",
              "      <th>BMI</th>\n",
              "      <th>heartRate</th>\n",
              "      <th>glucose</th>\n",
              "      <th>TenYearCHD</th>\n",
              "    </tr>\n",
              "  </thead>\n",
              "  <tbody>\n",
              "    <tr>\n",
              "      <th>id</th>\n",
              "      <td>1.000000</td>\n",
              "      <td>0.016759</td>\n",
              "      <td>-0.030573</td>\n",
              "      <td>-0.017249</td>\n",
              "      <td>0.007080</td>\n",
              "      <td>-0.038873</td>\n",
              "      <td>0.013236</td>\n",
              "      <td>0.003690</td>\n",
              "      <td>-0.019889</td>\n",
              "      <td>0.019676</td>\n",
              "      <td>0.000832</td>\n",
              "      <td>0.039849</td>\n",
              "      <td>0.024684</td>\n",
              "      <td>0.015517</td>\n",
              "      <td>0.009866</td>\n",
              "    </tr>\n",
              "    <tr>\n",
              "      <th>age</th>\n",
              "      <td>0.016759</td>\n",
              "      <td>1.000000</td>\n",
              "      <td>-0.172559</td>\n",
              "      <td>-0.192335</td>\n",
              "      <td>0.124376</td>\n",
              "      <td>0.059038</td>\n",
              "      <td>0.308826</td>\n",
              "      <td>0.107875</td>\n",
              "      <td>0.274028</td>\n",
              "      <td>0.404845</td>\n",
              "      <td>0.221896</td>\n",
              "      <td>0.138176</td>\n",
              "      <td>-0.002596</td>\n",
              "      <td>0.116135</td>\n",
              "      <td>0.224927</td>\n",
              "    </tr>\n",
              "    <tr>\n",
              "      <th>education</th>\n",
              "      <td>-0.030573</td>\n",
              "      <td>-0.172559</td>\n",
              "      <td>1.000000</td>\n",
              "      <td>0.011126</td>\n",
              "      <td>-0.019920</td>\n",
              "      <td>-0.034194</td>\n",
              "      <td>-0.084817</td>\n",
              "      <td>-0.052013</td>\n",
              "      <td>-0.020781</td>\n",
              "      <td>-0.137195</td>\n",
              "      <td>-0.060801</td>\n",
              "      <td>-0.133313</td>\n",
              "      <td>-0.046980</td>\n",
              "      <td>-0.038732</td>\n",
              "      <td>-0.052751</td>\n",
              "    </tr>\n",
              "    <tr>\n",
              "      <th>cigsPerDay</th>\n",
              "      <td>-0.017249</td>\n",
              "      <td>-0.192335</td>\n",
              "      <td>0.011126</td>\n",
              "      <td>1.000000</td>\n",
              "      <td>-0.037080</td>\n",
              "      <td>-0.042057</td>\n",
              "      <td>-0.079312</td>\n",
              "      <td>-0.049016</td>\n",
              "      <td>-0.024703</td>\n",
              "      <td>-0.100834</td>\n",
              "      <td>-0.068785</td>\n",
              "      <td>-0.100996</td>\n",
              "      <td>0.066759</td>\n",
              "      <td>-0.068797</td>\n",
              "      <td>0.066778</td>\n",
              "    </tr>\n",
              "    <tr>\n",
              "      <th>BPMeds</th>\n",
              "      <td>0.007080</td>\n",
              "      <td>0.124376</td>\n",
              "      <td>-0.019920</td>\n",
              "      <td>-0.037080</td>\n",
              "      <td>1.000000</td>\n",
              "      <td>0.119402</td>\n",
              "      <td>0.259548</td>\n",
              "      <td>0.071316</td>\n",
              "      <td>0.083299</td>\n",
              "      <td>0.263729</td>\n",
              "      <td>0.201217</td>\n",
              "      <td>0.087932</td>\n",
              "      <td>0.018107</td>\n",
              "      <td>0.064490</td>\n",
              "      <td>0.088020</td>\n",
              "    </tr>\n",
              "    <tr>\n",
              "      <th>prevalentStroke</th>\n",
              "      <td>-0.038873</td>\n",
              "      <td>0.059038</td>\n",
              "      <td>-0.034194</td>\n",
              "      <td>-0.042057</td>\n",
              "      <td>0.119402</td>\n",
              "      <td>1.000000</td>\n",
              "      <td>0.071652</td>\n",
              "      <td>0.010115</td>\n",
              "      <td>-0.010832</td>\n",
              "      <td>0.057568</td>\n",
              "      <td>0.047235</td>\n",
              "      <td>0.018602</td>\n",
              "      <td>-0.019184</td>\n",
              "      <td>0.023607</td>\n",
              "      <td>0.068627</td>\n",
              "    </tr>\n",
              "    <tr>\n",
              "      <th>prevalentHyp</th>\n",
              "      <td>0.013236</td>\n",
              "      <td>0.308826</td>\n",
              "      <td>-0.084817</td>\n",
              "      <td>-0.079312</td>\n",
              "      <td>0.259548</td>\n",
              "      <td>0.071652</td>\n",
              "      <td>1.000000</td>\n",
              "      <td>0.082565</td>\n",
              "      <td>0.159680</td>\n",
              "      <td>0.699285</td>\n",
              "      <td>0.612897</td>\n",
              "      <td>0.300464</td>\n",
              "      <td>0.150815</td>\n",
              "      <td>0.086658</td>\n",
              "      <td>0.166544</td>\n",
              "    </tr>\n",
              "    <tr>\n",
              "      <th>diabetes</th>\n",
              "      <td>0.003690</td>\n",
              "      <td>0.107875</td>\n",
              "      <td>-0.052013</td>\n",
              "      <td>-0.049016</td>\n",
              "      <td>0.071316</td>\n",
              "      <td>0.010115</td>\n",
              "      <td>0.082565</td>\n",
              "      <td>1.000000</td>\n",
              "      <td>0.059080</td>\n",
              "      <td>0.124011</td>\n",
              "      <td>0.061165</td>\n",
              "      <td>0.089112</td>\n",
              "      <td>0.039742</td>\n",
              "      <td>0.620211</td>\n",
              "      <td>0.103681</td>\n",
              "    </tr>\n",
              "    <tr>\n",
              "      <th>totChol</th>\n",
              "      <td>-0.019889</td>\n",
              "      <td>0.274028</td>\n",
              "      <td>-0.020781</td>\n",
              "      <td>-0.024703</td>\n",
              "      <td>0.083299</td>\n",
              "      <td>-0.010832</td>\n",
              "      <td>0.159680</td>\n",
              "      <td>0.059080</td>\n",
              "      <td>1.000000</td>\n",
              "      <td>0.199159</td>\n",
              "      <td>0.154974</td>\n",
              "      <td>0.114305</td>\n",
              "      <td>0.087458</td>\n",
              "      <td>0.062723</td>\n",
              "      <td>0.094306</td>\n",
              "    </tr>\n",
              "    <tr>\n",
              "      <th>sysBP</th>\n",
              "      <td>0.019676</td>\n",
              "      <td>0.404845</td>\n",
              "      <td>-0.137195</td>\n",
              "      <td>-0.100834</td>\n",
              "      <td>0.263729</td>\n",
              "      <td>0.057568</td>\n",
              "      <td>0.699285</td>\n",
              "      <td>0.124011</td>\n",
              "      <td>0.199159</td>\n",
              "      <td>1.000000</td>\n",
              "      <td>0.781908</td>\n",
              "      <td>0.333864</td>\n",
              "      <td>0.178262</td>\n",
              "      <td>0.143090</td>\n",
              "      <td>0.212703</td>\n",
              "    </tr>\n",
              "    <tr>\n",
              "      <th>diaBP</th>\n",
              "      <td>0.000832</td>\n",
              "      <td>0.221896</td>\n",
              "      <td>-0.060801</td>\n",
              "      <td>-0.068785</td>\n",
              "      <td>0.201217</td>\n",
              "      <td>0.047235</td>\n",
              "      <td>0.612897</td>\n",
              "      <td>0.061165</td>\n",
              "      <td>0.154974</td>\n",
              "      <td>0.781908</td>\n",
              "      <td>1.000000</td>\n",
              "      <td>0.380498</td>\n",
              "      <td>0.174904</td>\n",
              "      <td>0.071499</td>\n",
              "      <td>0.135979</td>\n",
              "    </tr>\n",
              "    <tr>\n",
              "      <th>BMI</th>\n",
              "      <td>0.039849</td>\n",
              "      <td>0.138176</td>\n",
              "      <td>-0.133313</td>\n",
              "      <td>-0.100996</td>\n",
              "      <td>0.087932</td>\n",
              "      <td>0.018602</td>\n",
              "      <td>0.300464</td>\n",
              "      <td>0.089112</td>\n",
              "      <td>0.114305</td>\n",
              "      <td>0.333864</td>\n",
              "      <td>0.380498</td>\n",
              "      <td>1.000000</td>\n",
              "      <td>0.069655</td>\n",
              "      <td>0.093454</td>\n",
              "      <td>0.066947</td>\n",
              "    </tr>\n",
              "    <tr>\n",
              "      <th>heartRate</th>\n",
              "      <td>0.024684</td>\n",
              "      <td>-0.002596</td>\n",
              "      <td>-0.046980</td>\n",
              "      <td>0.066759</td>\n",
              "      <td>0.018107</td>\n",
              "      <td>-0.019184</td>\n",
              "      <td>0.150815</td>\n",
              "      <td>0.039742</td>\n",
              "      <td>0.087458</td>\n",
              "      <td>0.178262</td>\n",
              "      <td>0.174904</td>\n",
              "      <td>0.069655</td>\n",
              "      <td>1.000000</td>\n",
              "      <td>0.088334</td>\n",
              "      <td>0.020241</td>\n",
              "    </tr>\n",
              "    <tr>\n",
              "      <th>glucose</th>\n",
              "      <td>0.015517</td>\n",
              "      <td>0.116135</td>\n",
              "      <td>-0.038732</td>\n",
              "      <td>-0.068797</td>\n",
              "      <td>0.064490</td>\n",
              "      <td>0.023607</td>\n",
              "      <td>0.086658</td>\n",
              "      <td>0.620211</td>\n",
              "      <td>0.062723</td>\n",
              "      <td>0.143090</td>\n",
              "      <td>0.071499</td>\n",
              "      <td>0.093454</td>\n",
              "      <td>0.088334</td>\n",
              "      <td>1.000000</td>\n",
              "      <td>0.138200</td>\n",
              "    </tr>\n",
              "    <tr>\n",
              "      <th>TenYearCHD</th>\n",
              "      <td>0.009866</td>\n",
              "      <td>0.224927</td>\n",
              "      <td>-0.052751</td>\n",
              "      <td>0.066778</td>\n",
              "      <td>0.088020</td>\n",
              "      <td>0.068627</td>\n",
              "      <td>0.166544</td>\n",
              "      <td>0.103681</td>\n",
              "      <td>0.094306</td>\n",
              "      <td>0.212703</td>\n",
              "      <td>0.135979</td>\n",
              "      <td>0.066947</td>\n",
              "      <td>0.020241</td>\n",
              "      <td>0.138200</td>\n",
              "      <td>1.000000</td>\n",
              "    </tr>\n",
              "  </tbody>\n",
              "</table>\n",
              "</div>"
            ],
            "text/plain": [
              "                       id       age  education  ...  heartRate   glucose  TenYearCHD\n",
              "id               1.000000  0.016759  -0.030573  ...   0.024684  0.015517    0.009866\n",
              "age              0.016759  1.000000  -0.172559  ...  -0.002596  0.116135    0.224927\n",
              "education       -0.030573 -0.172559   1.000000  ...  -0.046980 -0.038732   -0.052751\n",
              "cigsPerDay      -0.017249 -0.192335   0.011126  ...   0.066759 -0.068797    0.066778\n",
              "BPMeds           0.007080  0.124376  -0.019920  ...   0.018107  0.064490    0.088020\n",
              "prevalentStroke -0.038873  0.059038  -0.034194  ...  -0.019184  0.023607    0.068627\n",
              "prevalentHyp     0.013236  0.308826  -0.084817  ...   0.150815  0.086658    0.166544\n",
              "diabetes         0.003690  0.107875  -0.052013  ...   0.039742  0.620211    0.103681\n",
              "totChol         -0.019889  0.274028  -0.020781  ...   0.087458  0.062723    0.094306\n",
              "sysBP            0.019676  0.404845  -0.137195  ...   0.178262  0.143090    0.212703\n",
              "diaBP            0.000832  0.221896  -0.060801  ...   0.174904  0.071499    0.135979\n",
              "BMI              0.039849  0.138176  -0.133313  ...   0.069655  0.093454    0.066947\n",
              "heartRate        0.024684 -0.002596  -0.046980  ...   1.000000  0.088334    0.020241\n",
              "glucose          0.015517  0.116135  -0.038732  ...   0.088334  1.000000    0.138200\n",
              "TenYearCHD       0.009866  0.224927  -0.052751  ...   0.020241  0.138200    1.000000\n",
              "\n",
              "[15 rows x 15 columns]"
            ]
          },
          "metadata": {},
          "execution_count": 7
        }
      ]
    },
    {
      "cell_type": "code",
      "metadata": {
        "colab": {
          "base_uri": "https://localhost:8080/"
        },
        "id": "SFGTN8UlZKpM",
        "outputId": "acdb50f6-3ac8-47d0-d4e4-16a2d2ff0af5"
      },
      "source": [
        "#Checking for the null values\n",
        "df.isnull().sum()"
      ],
      "execution_count": 8,
      "outputs": [
        {
          "output_type": "execute_result",
          "data": {
            "text/plain": [
              "id                   0\n",
              "age                  0\n",
              "education           87\n",
              "sex                  0\n",
              "is_smoking           0\n",
              "cigsPerDay          22\n",
              "BPMeds              44\n",
              "prevalentStroke      0\n",
              "prevalentHyp         0\n",
              "diabetes             0\n",
              "totChol             38\n",
              "sysBP                0\n",
              "diaBP                0\n",
              "BMI                 14\n",
              "heartRate            1\n",
              "glucose            304\n",
              "TenYearCHD           0\n",
              "dtype: int64"
            ]
          },
          "metadata": {},
          "execution_count": 8
        }
      ]
    },
    {
      "cell_type": "code",
      "metadata": {
        "id": "2Xz63s_SZKr8"
      },
      "source": [
        "#storing the variable which have null values\n",
        "nullcol=['cigsPerDay','BPMeds','totChol','BMI','glucose']"
      ],
      "execution_count": 9,
      "outputs": []
    },
    {
      "cell_type": "markdown",
      "metadata": {
        "id": "kkq29Twkek6o"
      },
      "source": [
        "# ***Handling the null values***"
      ]
    },
    {
      "cell_type": "code",
      "metadata": {
        "id": "Ja44gM3sZKvl"
      },
      "source": [
        "#Treating the null values by applying statistic mean over them \n",
        "for x in nullcol:\n",
        "  df[x].fillna(df[x].mean(), inplace=True)"
      ],
      "execution_count": 10,
      "outputs": []
    },
    {
      "cell_type": "code",
      "metadata": {
        "id": "xBubJXy3fdNY"
      },
      "source": [
        "#dropping the single row which had null value\n",
        "df.dropna(subset = [\"heartRate\"], inplace=True)"
      ],
      "execution_count": 11,
      "outputs": []
    },
    {
      "cell_type": "code",
      "metadata": {
        "colab": {
          "base_uri": "https://localhost:8080/"
        },
        "id": "eNGllN05dQpg",
        "outputId": "c25be4b0-6c57-48ec-dd71-5af100847b54"
      },
      "source": [
        "df.isnull().sum()"
      ],
      "execution_count": 12,
      "outputs": [
        {
          "output_type": "execute_result",
          "data": {
            "text/plain": [
              "id                  0\n",
              "age                 0\n",
              "education          87\n",
              "sex                 0\n",
              "is_smoking          0\n",
              "cigsPerDay          0\n",
              "BPMeds              0\n",
              "prevalentStroke     0\n",
              "prevalentHyp        0\n",
              "diabetes            0\n",
              "totChol             0\n",
              "sysBP               0\n",
              "diaBP               0\n",
              "BMI                 0\n",
              "heartRate           0\n",
              "glucose             0\n",
              "TenYearCHD          0\n",
              "dtype: int64"
            ]
          },
          "metadata": {},
          "execution_count": 12
        }
      ]
    },
    {
      "cell_type": "code",
      "metadata": {
        "id": "1qFBN0gvdQtI"
      },
      "source": [
        "#dropping the variables which are insignificant\n",
        "df.drop(labels=['id','education'],inplace=True,axis=1)"
      ],
      "execution_count": 13,
      "outputs": []
    },
    {
      "cell_type": "code",
      "metadata": {
        "colab": {
          "base_uri": "https://localhost:8080/",
          "height": 203
        },
        "id": "7F6aAbZ2dQuZ",
        "outputId": "d245fc85-471e-42a1-c045-d90d4890679a"
      },
      "source": [
        "df.head()"
      ],
      "execution_count": 14,
      "outputs": [
        {
          "output_type": "execute_result",
          "data": {
            "text/html": [
              "<div>\n",
              "<style scoped>\n",
              "    .dataframe tbody tr th:only-of-type {\n",
              "        vertical-align: middle;\n",
              "    }\n",
              "\n",
              "    .dataframe tbody tr th {\n",
              "        vertical-align: top;\n",
              "    }\n",
              "\n",
              "    .dataframe thead th {\n",
              "        text-align: right;\n",
              "    }\n",
              "</style>\n",
              "<table border=\"1\" class=\"dataframe\">\n",
              "  <thead>\n",
              "    <tr style=\"text-align: right;\">\n",
              "      <th></th>\n",
              "      <th>age</th>\n",
              "      <th>sex</th>\n",
              "      <th>is_smoking</th>\n",
              "      <th>cigsPerDay</th>\n",
              "      <th>BPMeds</th>\n",
              "      <th>prevalentStroke</th>\n",
              "      <th>prevalentHyp</th>\n",
              "      <th>diabetes</th>\n",
              "      <th>totChol</th>\n",
              "      <th>sysBP</th>\n",
              "      <th>diaBP</th>\n",
              "      <th>BMI</th>\n",
              "      <th>heartRate</th>\n",
              "      <th>glucose</th>\n",
              "      <th>TenYearCHD</th>\n",
              "    </tr>\n",
              "  </thead>\n",
              "  <tbody>\n",
              "    <tr>\n",
              "      <th>0</th>\n",
              "      <td>64</td>\n",
              "      <td>F</td>\n",
              "      <td>YES</td>\n",
              "      <td>3.0</td>\n",
              "      <td>0.0</td>\n",
              "      <td>0</td>\n",
              "      <td>0</td>\n",
              "      <td>0</td>\n",
              "      <td>221.0</td>\n",
              "      <td>148.0</td>\n",
              "      <td>85.0</td>\n",
              "      <td>25.794964</td>\n",
              "      <td>90.0</td>\n",
              "      <td>80.0</td>\n",
              "      <td>1</td>\n",
              "    </tr>\n",
              "    <tr>\n",
              "      <th>1</th>\n",
              "      <td>36</td>\n",
              "      <td>M</td>\n",
              "      <td>NO</td>\n",
              "      <td>0.0</td>\n",
              "      <td>0.0</td>\n",
              "      <td>0</td>\n",
              "      <td>1</td>\n",
              "      <td>0</td>\n",
              "      <td>212.0</td>\n",
              "      <td>168.0</td>\n",
              "      <td>98.0</td>\n",
              "      <td>29.770000</td>\n",
              "      <td>72.0</td>\n",
              "      <td>75.0</td>\n",
              "      <td>0</td>\n",
              "    </tr>\n",
              "    <tr>\n",
              "      <th>2</th>\n",
              "      <td>46</td>\n",
              "      <td>F</td>\n",
              "      <td>YES</td>\n",
              "      <td>10.0</td>\n",
              "      <td>0.0</td>\n",
              "      <td>0</td>\n",
              "      <td>0</td>\n",
              "      <td>0</td>\n",
              "      <td>250.0</td>\n",
              "      <td>116.0</td>\n",
              "      <td>71.0</td>\n",
              "      <td>20.350000</td>\n",
              "      <td>88.0</td>\n",
              "      <td>94.0</td>\n",
              "      <td>0</td>\n",
              "    </tr>\n",
              "    <tr>\n",
              "      <th>3</th>\n",
              "      <td>50</td>\n",
              "      <td>M</td>\n",
              "      <td>YES</td>\n",
              "      <td>20.0</td>\n",
              "      <td>0.0</td>\n",
              "      <td>0</td>\n",
              "      <td>1</td>\n",
              "      <td>0</td>\n",
              "      <td>233.0</td>\n",
              "      <td>158.0</td>\n",
              "      <td>88.0</td>\n",
              "      <td>28.260000</td>\n",
              "      <td>68.0</td>\n",
              "      <td>94.0</td>\n",
              "      <td>1</td>\n",
              "    </tr>\n",
              "    <tr>\n",
              "      <th>4</th>\n",
              "      <td>64</td>\n",
              "      <td>F</td>\n",
              "      <td>YES</td>\n",
              "      <td>30.0</td>\n",
              "      <td>0.0</td>\n",
              "      <td>0</td>\n",
              "      <td>0</td>\n",
              "      <td>0</td>\n",
              "      <td>241.0</td>\n",
              "      <td>136.5</td>\n",
              "      <td>85.0</td>\n",
              "      <td>26.420000</td>\n",
              "      <td>70.0</td>\n",
              "      <td>77.0</td>\n",
              "      <td>0</td>\n",
              "    </tr>\n",
              "  </tbody>\n",
              "</table>\n",
              "</div>"
            ],
            "text/plain": [
              "   age sex is_smoking  cigsPerDay  ...        BMI  heartRate  glucose  TenYearCHD\n",
              "0   64   F        YES         3.0  ...  25.794964       90.0     80.0           1\n",
              "1   36   M         NO         0.0  ...  29.770000       72.0     75.0           0\n",
              "2   46   F        YES        10.0  ...  20.350000       88.0     94.0           0\n",
              "3   50   M        YES        20.0  ...  28.260000       68.0     94.0           1\n",
              "4   64   F        YES        30.0  ...  26.420000       70.0     77.0           0\n",
              "\n",
              "[5 rows x 15 columns]"
            ]
          },
          "metadata": {},
          "execution_count": 14
        }
      ]
    },
    {
      "cell_type": "code",
      "metadata": {
        "id": "fWi7kJzvhrG3"
      },
      "source": [
        "dist_col=['totChol','sysBP','diaBP','BMI','heartRate','glucose']"
      ],
      "execution_count": 15,
      "outputs": []
    },
    {
      "cell_type": "code",
      "metadata": {
        "colab": {
          "base_uri": "https://localhost:8080/",
          "height": 584
        },
        "id": "s2pZGd90g37V",
        "outputId": "0284ede8-e55e-4c46-fb9a-a0468e279850"
      },
      "source": [
        "#lets look at the distribution of the data using distplot\n",
        "plt.figure(figsize=(17,13))\n",
        "for i in range(len(dist_col)):\n",
        "    plt.subplot(4,2,i+1)\n",
        "    sns.distplot(df[dist_col[i]], hist=True, rug=True)"
      ],
      "execution_count": 16,
      "outputs": [
        {
          "output_type": "display_data",
          "data": {
            "image/png": "[encoded data removed]",
            "text/plain": [
              "<Figure size 1224x936 with 6 Axes>"
            ]
          },
          "metadata": {
            "needs_background": "light"
          }
        }
      ]
    },
    {
      "cell_type": "code",
      "metadata": {
        "colab": {
          "base_uri": "https://localhost:8080/",
          "height": 584
        },
        "id": "kJJsgIdOj8-v",
        "outputId": "46018d61-54c6-48cf-b2ca-9726c72f5ce3"
      },
      "source": [
        "#normalizing the data using log tranformation\n",
        "plt.figure(figsize=(17,13))\n",
        "for i in range(len(dist_col)):\n",
        "    plt.subplot(4,2,i+1)\n",
        "    sns.distplot(np.log(df[dist_col[i]]), hist=True, rug=True)"
      ],
      "execution_count": 17,
      "outputs": [
        {
          "output_type": "display_data",
          "data": {
            "image/png": "[encoded data removed]",
            "text/plain": [
              "<Figure size 1224x936 with 6 Axes>"
            ]
          },
          "metadata": {
            "needs_background": "light"
          }
        }
      ]
    },
    {
      "cell_type": "markdown",
      "metadata": {
        "id": "NBNVy2tSvi3q"
      },
      "source": [
        "# ***Checking for outliers using boxplots***"
      ]
    },
    {
      "cell_type": "code",
      "metadata": {
        "colab": {
          "base_uri": "https://localhost:8080/",
          "height": 282
        },
        "id": "Ab1TjWQTj9Vi",
        "outputId": "e6c9bae7-1a29-404c-bd0b-cd13299ec29a"
      },
      "source": [
        "df.age.plot.box()"
      ],
      "execution_count": 18,
      "outputs": [
        {
          "output_type": "execute_result",
          "data": {
            "text/plain": [
              "<matplotlib.axes._subplots.AxesSubplot at 0x7fe8fb0fee10>"
            ]
          },
          "metadata": {},
          "execution_count": 18
        },
        {
          "output_type": "display_data",
          "data": {
            "image/png": "[encoded data removed]",
            "text/plain": [
              "<Figure size 432x288 with 1 Axes>"
            ]
          },
          "metadata": {
            "needs_background": "light"
          }
        }
      ]
    },
    {
      "cell_type": "code",
      "metadata": {
        "colab": {
          "base_uri": "https://localhost:8080/",
          "height": 282
        },
        "id": "cHI4dMaikjMP",
        "outputId": "8a269d8c-4d84-4223-b307-b3c6420dd794"
      },
      "source": [
        "df.cigsPerDay.plot.box()"
      ],
      "execution_count": 19,
      "outputs": [
        {
          "output_type": "execute_result",
          "data": {
            "text/plain": [
              "<matplotlib.axes._subplots.AxesSubplot at 0x7fe8f8695990>"
            ]
          },
          "metadata": {},
          "execution_count": 19
        },
        {
          "output_type": "display_data",
          "data": {
            "image/png": "[encoded data removed]",
            "text/plain": [
              "<Figure size 432x288 with 1 Axes>"
            ]
          },
          "metadata": {
            "needs_background": "light"
          }
        }
      ]
    },
    {
      "cell_type": "code",
      "metadata": {
        "colab": {
          "base_uri": "https://localhost:8080/",
          "height": 282
        },
        "id": "6slBGgNokjPG",
        "outputId": "4d594252-54a0-43b5-d429-eeacb3701b45"
      },
      "source": [
        "df.sysBP.plot.box()"
      ],
      "execution_count": 20,
      "outputs": [
        {
          "output_type": "execute_result",
          "data": {
            "text/plain": [
              "<matplotlib.axes._subplots.AxesSubplot at 0x7fe8f864d810>"
            ]
          },
          "metadata": {},
          "execution_count": 20
        },
        {
          "output_type": "display_data",
          "data": {
            "image/png": "[encoded data removed]",
            "text/plain": [
              "<Figure size 432x288 with 1 Axes>"
            ]
          },
          "metadata": {
            "needs_background": "light"
          }
        }
      ]
    },
    {
      "cell_type": "code",
      "metadata": {
        "colab": {
          "base_uri": "https://localhost:8080/",
          "height": 282
        },
        "id": "SjsOkPoeph1q",
        "outputId": "fc7ae9da-5aa7-4bd1-e2f9-f62d4e935743"
      },
      "source": [
        "df.totChol.plot.box() "
      ],
      "execution_count": 21,
      "outputs": [
        {
          "output_type": "execute_result",
          "data": {
            "text/plain": [
              "<matplotlib.axes._subplots.AxesSubplot at 0x7fe8f85e2810>"
            ]
          },
          "metadata": {},
          "execution_count": 21
        },
        {
          "output_type": "display_data",
          "data": {
            "image/png": "[encoded data removed]",
            "text/plain": [
              "<Figure size 432x288 with 1 Axes>"
            ]
          },
          "metadata": {
            "needs_background": "light"
          }
        }
      ]
    },
    {
      "cell_type": "code",
      "metadata": {
        "colab": {
          "base_uri": "https://localhost:8080/",
          "height": 282
        },
        "id": "5dVjDWyKph5D",
        "outputId": "9f11bac7-1517-46db-d45f-1cdbf9dbae77"
      },
      "source": [
        "df.totChol.plot.box() "
      ],
      "execution_count": 22,
      "outputs": [
        {
          "output_type": "execute_result",
          "data": {
            "text/plain": [
              "<matplotlib.axes._subplots.AxesSubplot at 0x7fe8fb14b190>"
            ]
          },
          "metadata": {},
          "execution_count": 22
        },
        {
          "output_type": "display_data",
          "data": {
            "image/png": "[encoded data removed]",
            "text/plain": [
              "<Figure size 432x288 with 1 Axes>"
            ]
          },
          "metadata": {
            "needs_background": "light"
          }
        }
      ]
    },
    {
      "cell_type": "code",
      "metadata": {
        "colab": {
          "base_uri": "https://localhost:8080/",
          "height": 282
        },
        "id": "1iWl3Xyjp3Xc",
        "outputId": "ec45f79f-c1cc-4454-a2f9-5197e611c449"
      },
      "source": [
        "df.BMI.plot.box() "
      ],
      "execution_count": 23,
      "outputs": [
        {
          "output_type": "execute_result",
          "data": {
            "text/plain": [
              "<matplotlib.axes._subplots.AxesSubplot at 0x7fe8fab4a590>"
            ]
          },
          "metadata": {},
          "execution_count": 23
        },
        {
          "output_type": "display_data",
          "data": {
            "image/png": "[encoded data removed]",
            "text/plain": [
              "<Figure size 432x288 with 1 Axes>"
            ]
          },
          "metadata": {
            "needs_background": "light"
          }
        }
      ]
    },
    {
      "cell_type": "code",
      "metadata": {
        "colab": {
          "base_uri": "https://localhost:8080/",
          "height": 282
        },
        "id": "d0K6PU2Sp3f_",
        "outputId": "d312fb8a-4e6b-4231-f2dd-1e5ade00f869"
      },
      "source": [
        "df.heartRate.plot.box() "
      ],
      "execution_count": 24,
      "outputs": [
        {
          "output_type": "execute_result",
          "data": {
            "text/plain": [
              "<matplotlib.axes._subplots.AxesSubplot at 0x7fe8fa85f2d0>"
            ]
          },
          "metadata": {},
          "execution_count": 24
        },
        {
          "output_type": "display_data",
          "data": {
            "image/png": "[encoded data removed]",
            "text/plain": [
              "<Figure size 432x288 with 1 Axes>"
            ]
          },
          "metadata": {
            "needs_background": "light"
          }
        }
      ]
    },
    {
      "cell_type": "code",
      "metadata": {
        "colab": {
          "base_uri": "https://localhost:8080/",
          "height": 282
        },
        "id": "akPBsHx_kjSY",
        "outputId": "b3d1ba6b-2f8b-4894-d416-cd8b8777f7cb"
      },
      "source": [
        "df.glucose.plot.box()    "
      ],
      "execution_count": 25,
      "outputs": [
        {
          "output_type": "execute_result",
          "data": {
            "text/plain": [
              "<matplotlib.axes._subplots.AxesSubplot at 0x7fe8fae3a9d0>"
            ]
          },
          "metadata": {},
          "execution_count": 25
        },
        {
          "output_type": "display_data",
          "data": {
            "image/png": "[encoded data removed]",
            "text/plain": [
              "<Figure size 432x288 with 1 Axes>"
            ]
          },
          "metadata": {
            "needs_background": "light"
          }
        }
      ]
    },
    {
      "cell_type": "code",
      "metadata": {
        "colab": {
          "base_uri": "https://localhost:8080/",
          "height": 282
        },
        "id": "Ma_Yuf3VpN0u",
        "outputId": "201e3d99-f15b-4b29-88d3-613d068a99e2"
      },
      "source": [
        "df.diaBP.plot.box()"
      ],
      "execution_count": 26,
      "outputs": [
        {
          "output_type": "execute_result",
          "data": {
            "text/plain": [
              "<matplotlib.axes._subplots.AxesSubplot at 0x7fe8face81d0>"
            ]
          },
          "metadata": {},
          "execution_count": 26
        },
        {
          "output_type": "display_data",
          "data": {
            "image/png": "[encoded data removed]",
            "text/plain": [
              "<Figure size 432x288 with 1 Axes>"
            ]
          },
          "metadata": {
            "needs_background": "light"
          }
        }
      ]
    },
    {
      "cell_type": "code",
      "metadata": {
        "id": "50L-0FWogV-e"
      },
      "source": [
        ""
      ],
      "execution_count": 26,
      "outputs": []
    },
    {
      "cell_type": "code",
      "metadata": {
        "id": "ZNnBRvADqOPZ"
      },
      "source": [
        "box_col=['totChol','sysBP','diaBP','BMI','heartRate','glucose']"
      ],
      "execution_count": 27,
      "outputs": []
    },
    {
      "cell_type": "code",
      "metadata": {
        "id": "YWF4R3-aqDEt"
      },
      "source": [
        "#applying log tranformation on the data to remove outliers\n",
        "for i in box_col:\n",
        "    df[i]=np.log(df[i]+1)"
      ],
      "execution_count": 28,
      "outputs": []
    },
    {
      "cell_type": "code",
      "metadata": {
        "colab": {
          "base_uri": "https://localhost:8080/",
          "height": 203
        },
        "id": "wUCAs_EMvRA5",
        "outputId": "65b6eca6-3dc8-49c1-968e-bcff564fed56"
      },
      "source": [
        "df.head()"
      ],
      "execution_count": 29,
      "outputs": [
        {
          "output_type": "execute_result",
          "data": {
            "text/html": [
              "<div>\n",
              "<style scoped>\n",
              "    .dataframe tbody tr th:only-of-type {\n",
              "        vertical-align: middle;\n",
              "    }\n",
              "\n",
              "    .dataframe tbody tr th {\n",
              "        vertical-align: top;\n",
              "    }\n",
              "\n",
              "    .dataframe thead th {\n",
              "        text-align: right;\n",
              "    }\n",
              "</style>\n",
              "<table border=\"1\" class=\"dataframe\">\n",
              "  <thead>\n",
              "    <tr style=\"text-align: right;\">\n",
              "      <th></th>\n",
              "      <th>age</th>\n",
              "      <th>sex</th>\n",
              "      <th>is_smoking</th>\n",
              "      <th>cigsPerDay</th>\n",
              "      <th>BPMeds</th>\n",
              "      <th>prevalentStroke</th>\n",
              "      <th>prevalentHyp</th>\n",
              "      <th>diabetes</th>\n",
              "      <th>totChol</th>\n",
              "      <th>sysBP</th>\n",
              "      <th>diaBP</th>\n",
              "      <th>BMI</th>\n",
              "      <th>heartRate</th>\n",
              "      <th>glucose</th>\n",
              "      <th>TenYearCHD</th>\n",
              "    </tr>\n",
              "  </thead>\n",
              "  <tbody>\n",
              "    <tr>\n",
              "      <th>0</th>\n",
              "      <td>64</td>\n",
              "      <td>F</td>\n",
              "      <td>YES</td>\n",
              "      <td>3.0</td>\n",
              "      <td>0.0</td>\n",
              "      <td>0</td>\n",
              "      <td>0</td>\n",
              "      <td>0</td>\n",
              "      <td>5.402677</td>\n",
              "      <td>5.003946</td>\n",
              "      <td>4.454347</td>\n",
              "      <td>3.288214</td>\n",
              "      <td>4.510860</td>\n",
              "      <td>4.394449</td>\n",
              "      <td>1</td>\n",
              "    </tr>\n",
              "    <tr>\n",
              "      <th>1</th>\n",
              "      <td>36</td>\n",
              "      <td>M</td>\n",
              "      <td>NO</td>\n",
              "      <td>0.0</td>\n",
              "      <td>0.0</td>\n",
              "      <td>0</td>\n",
              "      <td>1</td>\n",
              "      <td>0</td>\n",
              "      <td>5.361292</td>\n",
              "      <td>5.129899</td>\n",
              "      <td>4.595120</td>\n",
              "      <td>3.426540</td>\n",
              "      <td>4.290459</td>\n",
              "      <td>4.330733</td>\n",
              "      <td>0</td>\n",
              "    </tr>\n",
              "    <tr>\n",
              "      <th>2</th>\n",
              "      <td>46</td>\n",
              "      <td>F</td>\n",
              "      <td>YES</td>\n",
              "      <td>10.0</td>\n",
              "      <td>0.0</td>\n",
              "      <td>0</td>\n",
              "      <td>0</td>\n",
              "      <td>0</td>\n",
              "      <td>5.525453</td>\n",
              "      <td>4.762174</td>\n",
              "      <td>4.276666</td>\n",
              "      <td>3.061052</td>\n",
              "      <td>4.488636</td>\n",
              "      <td>4.553877</td>\n",
              "      <td>0</td>\n",
              "    </tr>\n",
              "    <tr>\n",
              "      <th>3</th>\n",
              "      <td>50</td>\n",
              "      <td>M</td>\n",
              "      <td>YES</td>\n",
              "      <td>20.0</td>\n",
              "      <td>0.0</td>\n",
              "      <td>0</td>\n",
              "      <td>1</td>\n",
              "      <td>0</td>\n",
              "      <td>5.455321</td>\n",
              "      <td>5.068904</td>\n",
              "      <td>4.488636</td>\n",
              "      <td>3.376221</td>\n",
              "      <td>4.234107</td>\n",
              "      <td>4.553877</td>\n",
              "      <td>1</td>\n",
              "    </tr>\n",
              "    <tr>\n",
              "      <th>4</th>\n",
              "      <td>64</td>\n",
              "      <td>F</td>\n",
              "      <td>YES</td>\n",
              "      <td>30.0</td>\n",
              "      <td>0.0</td>\n",
              "      <td>0</td>\n",
              "      <td>0</td>\n",
              "      <td>0</td>\n",
              "      <td>5.488938</td>\n",
              "      <td>4.923624</td>\n",
              "      <td>4.454347</td>\n",
              "      <td>3.311273</td>\n",
              "      <td>4.262680</td>\n",
              "      <td>4.356709</td>\n",
              "      <td>0</td>\n",
              "    </tr>\n",
              "  </tbody>\n",
              "</table>\n",
              "</div>"
            ],
            "text/plain": [
              "   age sex is_smoking  cigsPerDay  ...       BMI  heartRate   glucose  TenYearCHD\n",
              "0   64   F        YES         3.0  ...  3.288214   4.510860  4.394449           1\n",
              "1   36   M         NO         0.0  ...  3.426540   4.290459  4.330733           0\n",
              "2   46   F        YES        10.0  ...  3.061052   4.488636  4.553877           0\n",
              "3   50   M        YES        20.0  ...  3.376221   4.234107  4.553877           1\n",
              "4   64   F        YES        30.0  ...  3.311273   4.262680  4.356709           0\n",
              "\n",
              "[5 rows x 15 columns]"
            ]
          },
          "metadata": {},
          "execution_count": 29
        }
      ]
    },
    {
      "cell_type": "code",
      "metadata": {
        "id": "F_oEJc3B1XA5"
      },
      "source": [
        "#Label encoding using lambda function\n",
        "df['sex']=df['sex'].apply(lambda x:0 if x=='F' else 1)\n",
        "df['is_smoking']=df['is_smoking'].apply(lambda x:0 if x=='NO' else 1)"
      ],
      "execution_count": 30,
      "outputs": []
    },
    {
      "cell_type": "code",
      "metadata": {
        "colab": {
          "base_uri": "https://localhost:8080/",
          "height": 203
        },
        "id": "Wzam-l5TL7yy",
        "outputId": "37246f4e-a157-46bc-bb14-e6b2fcb49567"
      },
      "source": [
        "df.head()"
      ],
      "execution_count": 31,
      "outputs": [
        {
          "output_type": "execute_result",
          "data": {
            "text/html": [
              "<div>\n",
              "<style scoped>\n",
              "    .dataframe tbody tr th:only-of-type {\n",
              "        vertical-align: middle;\n",
              "    }\n",
              "\n",
              "    .dataframe tbody tr th {\n",
              "        vertical-align: top;\n",
              "    }\n",
              "\n",
              "    .dataframe thead th {\n",
              "        text-align: right;\n",
              "    }\n",
              "</style>\n",
              "<table border=\"1\" class=\"dataframe\">\n",
              "  <thead>\n",
              "    <tr style=\"text-align: right;\">\n",
              "      <th></th>\n",
              "      <th>age</th>\n",
              "      <th>sex</th>\n",
              "      <th>is_smoking</th>\n",
              "      <th>cigsPerDay</th>\n",
              "      <th>BPMeds</th>\n",
              "      <th>prevalentStroke</th>\n",
              "      <th>prevalentHyp</th>\n",
              "      <th>diabetes</th>\n",
              "      <th>totChol</th>\n",
              "      <th>sysBP</th>\n",
              "      <th>diaBP</th>\n",
              "      <th>BMI</th>\n",
              "      <th>heartRate</th>\n",
              "      <th>glucose</th>\n",
              "      <th>TenYearCHD</th>\n",
              "    </tr>\n",
              "  </thead>\n",
              "  <tbody>\n",
              "    <tr>\n",
              "      <th>0</th>\n",
              "      <td>64</td>\n",
              "      <td>0</td>\n",
              "      <td>1</td>\n",
              "      <td>3.0</td>\n",
              "      <td>0.0</td>\n",
              "      <td>0</td>\n",
              "      <td>0</td>\n",
              "      <td>0</td>\n",
              "      <td>5.402677</td>\n",
              "      <td>5.003946</td>\n",
              "      <td>4.454347</td>\n",
              "      <td>3.288214</td>\n",
              "      <td>4.510860</td>\n",
              "      <td>4.394449</td>\n",
              "      <td>1</td>\n",
              "    </tr>\n",
              "    <tr>\n",
              "      <th>1</th>\n",
              "      <td>36</td>\n",
              "      <td>1</td>\n",
              "      <td>0</td>\n",
              "      <td>0.0</td>\n",
              "      <td>0.0</td>\n",
              "      <td>0</td>\n",
              "      <td>1</td>\n",
              "      <td>0</td>\n",
              "      <td>5.361292</td>\n",
              "      <td>5.129899</td>\n",
              "      <td>4.595120</td>\n",
              "      <td>3.426540</td>\n",
              "      <td>4.290459</td>\n",
              "      <td>4.330733</td>\n",
              "      <td>0</td>\n",
              "    </tr>\n",
              "    <tr>\n",
              "      <th>2</th>\n",
              "      <td>46</td>\n",
              "      <td>0</td>\n",
              "      <td>1</td>\n",
              "      <td>10.0</td>\n",
              "      <td>0.0</td>\n",
              "      <td>0</td>\n",
              "      <td>0</td>\n",
              "      <td>0</td>\n",
              "      <td>5.525453</td>\n",
              "      <td>4.762174</td>\n",
              "      <td>4.276666</td>\n",
              "      <td>3.061052</td>\n",
              "      <td>4.488636</td>\n",
              "      <td>4.553877</td>\n",
              "      <td>0</td>\n",
              "    </tr>\n",
              "    <tr>\n",
              "      <th>3</th>\n",
              "      <td>50</td>\n",
              "      <td>1</td>\n",
              "      <td>1</td>\n",
              "      <td>20.0</td>\n",
              "      <td>0.0</td>\n",
              "      <td>0</td>\n",
              "      <td>1</td>\n",
              "      <td>0</td>\n",
              "      <td>5.455321</td>\n",
              "      <td>5.068904</td>\n",
              "      <td>4.488636</td>\n",
              "      <td>3.376221</td>\n",
              "      <td>4.234107</td>\n",
              "      <td>4.553877</td>\n",
              "      <td>1</td>\n",
              "    </tr>\n",
              "    <tr>\n",
              "      <th>4</th>\n",
              "      <td>64</td>\n",
              "      <td>0</td>\n",
              "      <td>1</td>\n",
              "      <td>30.0</td>\n",
              "      <td>0.0</td>\n",
              "      <td>0</td>\n",
              "      <td>0</td>\n",
              "      <td>0</td>\n",
              "      <td>5.488938</td>\n",
              "      <td>4.923624</td>\n",
              "      <td>4.454347</td>\n",
              "      <td>3.311273</td>\n",
              "      <td>4.262680</td>\n",
              "      <td>4.356709</td>\n",
              "      <td>0</td>\n",
              "    </tr>\n",
              "  </tbody>\n",
              "</table>\n",
              "</div>"
            ],
            "text/plain": [
              "   age  sex  is_smoking  cigsPerDay  ...       BMI  heartRate   glucose  TenYearCHD\n",
              "0   64    0           1         3.0  ...  3.288214   4.510860  4.394449           1\n",
              "1   36    1           0         0.0  ...  3.426540   4.290459  4.330733           0\n",
              "2   46    0           1        10.0  ...  3.061052   4.488636  4.553877           0\n",
              "3   50    1           1        20.0  ...  3.376221   4.234107  4.553877           1\n",
              "4   64    0           1        30.0  ...  3.311273   4.262680  4.356709           0\n",
              "\n",
              "[5 rows x 15 columns]"
            ]
          },
          "metadata": {},
          "execution_count": 31
        }
      ]
    },
    {
      "cell_type": "code",
      "metadata": {
        "colab": {
          "base_uri": "https://localhost:8080/",
          "height": 299
        },
        "id": "sfBPC0bdqDHF",
        "outputId": "c6fcdd8f-e7bd-4706-ed22-4997ce2c4f16"
      },
      "source": [
        "sns.countplot(x=\"TenYearCHD\", data=df,palette='Set1')"
      ],
      "execution_count": 32,
      "outputs": [
        {
          "output_type": "execute_result",
          "data": {
            "text/plain": [
              "<matplotlib.axes._subplots.AxesSubplot at 0x7fe8fa87df50>"
            ]
          },
          "metadata": {},
          "execution_count": 32
        },
        {
          "output_type": "display_data",
          "data": {
            "image/png": "[encoded data removed]",
            "text/plain": [
              "<Figure size 432x288 with 1 Axes>"
            ]
          },
          "metadata": {
            "needs_background": "light"
          }
        }
      ]
    },
    {
      "cell_type": "code",
      "metadata": {
        "id": "jvyTkRJ31yJz"
      },
      "source": [
        "#Oversampling the data using smote technique\n",
        "from imblearn.over_sampling import SMOTE\n",
        "smote = SMOTE(random_state = 101)\n",
        "X, y = smote.fit_resample(df[['age','sex','is_smoking','cigsPerDay','BPMeds','prevalentStroke','prevalentHyp','diabetes','totChol','sysBP','diaBP','BMI','heartRate','glucose']], df['TenYearCHD'])\n"
      ],
      "execution_count": 33,
      "outputs": []
    },
    {
      "cell_type": "code",
      "metadata": {
        "id": "nwxkm8RB12_m"
      },
      "source": [
        "#Creating a new Oversampled Data Frame\n",
        "newdf = pd.DataFrame(X,columns = ['age','sex','is_smoking','cigsPerDay','BPMeds','prevalentStroke','prevalentHyp','diabetes','totChol','sysBP','diaBP','BMI','heartRate','glucose'])\n",
        "newdf['TenYearCHD']=y\n"
      ],
      "execution_count": 34,
      "outputs": []
    },
    {
      "cell_type": "code",
      "metadata": {
        "colab": {
          "base_uri": "https://localhost:8080/",
          "height": 299
        },
        "id": "XHhMg0fp13GT",
        "outputId": "df729cbf-7447-45e8-839b-c3a53611e594"
      },
      "source": [
        "#to check the balance of data using countplot\n",
        "sns.countplot(newdf['TenYearCHD'])"
      ],
      "execution_count": 35,
      "outputs": [
        {
          "output_type": "execute_result",
          "data": {
            "text/plain": [
              "<matplotlib.axes._subplots.AxesSubplot at 0x7fe8fabaa450>"
            ]
          },
          "metadata": {},
          "execution_count": 35
        },
        {
          "output_type": "display_data",
          "data": {
            "image/png": "[encoded data removed]",
            "text/plain": [
              "<Figure size 432x288 with 1 Axes>"
            ]
          },
          "metadata": {
            "needs_background": "light"
          }
        }
      ]
    },
    {
      "cell_type": "code",
      "metadata": {
        "colab": {
          "base_uri": "https://localhost:8080/",
          "height": 790
        },
        "id": "fiVXIe7NqDKN",
        "outputId": "f88add41-f59e-4dac-90a4-b57d6171603c"
      },
      "source": [
        "#heatmap to see the correlation among the variables\n",
        "plt.figure(figsize=(15,12))\n",
        "correlation=newdf.corr()\n",
        "sns.heatmap(correlation,annot=True,cmap='coolwarm')"
      ],
      "execution_count": 36,
      "outputs": [
        {
          "output_type": "execute_result",
          "data": {
            "text/plain": [
              "<matplotlib.axes._subplots.AxesSubplot at 0x7fe8f8892710>"
            ]
          },
          "metadata": {},
          "execution_count": 36
        },
        {
          "output_type": "display_data",
          "data": {
            "image/png": "[encoded data removed]",
            "text/plain": [
              "<Figure size 1080x864 with 2 Axes>"
            ]
          },
          "metadata": {
            "needs_background": "light"
          }
        }
      ]
    },
    {
      "cell_type": "code",
      "metadata": {
        "colab": {
          "base_uri": "https://localhost:8080/"
        },
        "id": "Qwpv2VnhGD5U",
        "outputId": "7fbf9b4c-c5f5-4c3b-8db4-4f5fc6e86b18"
      },
      "source": [
        "#preparing the data to scale down\n",
        "newdf.pop(item='TenYearCHD')"
      ],
      "execution_count": 37,
      "outputs": [
        {
          "output_type": "execute_result",
          "data": {
            "text/plain": [
              "0       1\n",
              "1       0\n",
              "2       0\n",
              "3       1\n",
              "4       0\n",
              "       ..\n",
              "5753    1\n",
              "5754    1\n",
              "5755    1\n",
              "5756    1\n",
              "5757    1\n",
              "Name: TenYearCHD, Length: 5758, dtype: int64"
            ]
          },
          "metadata": {},
          "execution_count": 37
        }
      ]
    },
    {
      "cell_type": "code",
      "metadata": {
        "colab": {
          "base_uri": "https://localhost:8080/",
          "height": 417
        },
        "id": "H4FtMQ4bOHsu",
        "outputId": "943bdae0-c9ab-4c3a-cd4f-c91da8e4dd27"
      },
      "source": [
        "newdf"
      ],
      "execution_count": 38,
      "outputs": [
        {
          "output_type": "execute_result",
          "data": {
            "text/html": [
              "<div>\n",
              "<style scoped>\n",
              "    .dataframe tbody tr th:only-of-type {\n",
              "        vertical-align: middle;\n",
              "    }\n",
              "\n",
              "    .dataframe tbody tr th {\n",
              "        vertical-align: top;\n",
              "    }\n",
              "\n",
              "    .dataframe thead th {\n",
              "        text-align: right;\n",
              "    }\n",
              "</style>\n",
              "<table border=\"1\" class=\"dataframe\">\n",
              "  <thead>\n",
              "    <tr style=\"text-align: right;\">\n",
              "      <th></th>\n",
              "      <th>age</th>\n",
              "      <th>sex</th>\n",
              "      <th>is_smoking</th>\n",
              "      <th>cigsPerDay</th>\n",
              "      <th>BPMeds</th>\n",
              "      <th>prevalentStroke</th>\n",
              "      <th>prevalentHyp</th>\n",
              "      <th>diabetes</th>\n",
              "      <th>totChol</th>\n",
              "      <th>sysBP</th>\n",
              "      <th>diaBP</th>\n",
              "      <th>BMI</th>\n",
              "      <th>heartRate</th>\n",
              "      <th>glucose</th>\n",
              "    </tr>\n",
              "  </thead>\n",
              "  <tbody>\n",
              "    <tr>\n",
              "      <th>0</th>\n",
              "      <td>64.000000</td>\n",
              "      <td>0.000000</td>\n",
              "      <td>1.0</td>\n",
              "      <td>3.0</td>\n",
              "      <td>0.0</td>\n",
              "      <td>0.0</td>\n",
              "      <td>0.000000</td>\n",
              "      <td>0.0</td>\n",
              "      <td>5.402677</td>\n",
              "      <td>5.003946</td>\n",
              "      <td>4.454347</td>\n",
              "      <td>3.288214</td>\n",
              "      <td>4.510860</td>\n",
              "      <td>4.394449</td>\n",
              "    </tr>\n",
              "    <tr>\n",
              "      <th>1</th>\n",
              "      <td>36.000000</td>\n",
              "      <td>1.000000</td>\n",
              "      <td>0.0</td>\n",
              "      <td>0.0</td>\n",
              "      <td>0.0</td>\n",
              "      <td>0.0</td>\n",
              "      <td>1.000000</td>\n",
              "      <td>0.0</td>\n",
              "      <td>5.361292</td>\n",
              "      <td>5.129899</td>\n",
              "      <td>4.595120</td>\n",
              "      <td>3.426540</td>\n",
              "      <td>4.290459</td>\n",
              "      <td>4.330733</td>\n",
              "    </tr>\n",
              "    <tr>\n",
              "      <th>2</th>\n",
              "      <td>46.000000</td>\n",
              "      <td>0.000000</td>\n",
              "      <td>1.0</td>\n",
              "      <td>10.0</td>\n",
              "      <td>0.0</td>\n",
              "      <td>0.0</td>\n",
              "      <td>0.000000</td>\n",
              "      <td>0.0</td>\n",
              "      <td>5.525453</td>\n",
              "      <td>4.762174</td>\n",
              "      <td>4.276666</td>\n",
              "      <td>3.061052</td>\n",
              "      <td>4.488636</td>\n",
              "      <td>4.553877</td>\n",
              "    </tr>\n",
              "    <tr>\n",
              "      <th>3</th>\n",
              "      <td>50.000000</td>\n",
              "      <td>1.000000</td>\n",
              "      <td>1.0</td>\n",
              "      <td>20.0</td>\n",
              "      <td>0.0</td>\n",
              "      <td>0.0</td>\n",
              "      <td>1.000000</td>\n",
              "      <td>0.0</td>\n",
              "      <td>5.455321</td>\n",
              "      <td>5.068904</td>\n",
              "      <td>4.488636</td>\n",
              "      <td>3.376221</td>\n",
              "      <td>4.234107</td>\n",
              "      <td>4.553877</td>\n",
              "    </tr>\n",
              "    <tr>\n",
              "      <th>4</th>\n",
              "      <td>64.000000</td>\n",
              "      <td>0.000000</td>\n",
              "      <td>1.0</td>\n",
              "      <td>30.0</td>\n",
              "      <td>0.0</td>\n",
              "      <td>0.0</td>\n",
              "      <td>0.000000</td>\n",
              "      <td>0.0</td>\n",
              "      <td>5.488938</td>\n",
              "      <td>4.923624</td>\n",
              "      <td>4.454347</td>\n",
              "      <td>3.311273</td>\n",
              "      <td>4.262680</td>\n",
              "      <td>4.356709</td>\n",
              "    </tr>\n",
              "    <tr>\n",
              "      <th>...</th>\n",
              "      <td>...</td>\n",
              "      <td>...</td>\n",
              "      <td>...</td>\n",
              "      <td>...</td>\n",
              "      <td>...</td>\n",
              "      <td>...</td>\n",
              "      <td>...</td>\n",
              "      <td>...</td>\n",
              "      <td>...</td>\n",
              "      <td>...</td>\n",
              "      <td>...</td>\n",
              "      <td>...</td>\n",
              "      <td>...</td>\n",
              "      <td>...</td>\n",
              "    </tr>\n",
              "    <tr>\n",
              "      <th>5753</th>\n",
              "      <td>58.050829</td>\n",
              "      <td>0.949171</td>\n",
              "      <td>1.0</td>\n",
              "      <td>15.0</td>\n",
              "      <td>0.0</td>\n",
              "      <td>0.0</td>\n",
              "      <td>0.050829</td>\n",
              "      <td>0.0</td>\n",
              "      <td>5.556564</td>\n",
              "      <td>5.056246</td>\n",
              "      <td>4.475467</td>\n",
              "      <td>3.273959</td>\n",
              "      <td>4.520292</td>\n",
              "      <td>4.602928</td>\n",
              "    </tr>\n",
              "    <tr>\n",
              "      <th>5754</th>\n",
              "      <td>52.689176</td>\n",
              "      <td>0.000000</td>\n",
              "      <td>0.0</td>\n",
              "      <td>0.0</td>\n",
              "      <td>0.0</td>\n",
              "      <td>0.0</td>\n",
              "      <td>0.000000</td>\n",
              "      <td>0.0</td>\n",
              "      <td>5.876011</td>\n",
              "      <td>4.811382</td>\n",
              "      <td>4.441724</td>\n",
              "      <td>3.243182</td>\n",
              "      <td>4.163702</td>\n",
              "      <td>4.349315</td>\n",
              "    </tr>\n",
              "    <tr>\n",
              "      <th>5755</th>\n",
              "      <td>55.264970</td>\n",
              "      <td>1.000000</td>\n",
              "      <td>0.0</td>\n",
              "      <td>0.0</td>\n",
              "      <td>0.0</td>\n",
              "      <td>0.0</td>\n",
              "      <td>1.000000</td>\n",
              "      <td>0.0</td>\n",
              "      <td>5.209669</td>\n",
              "      <td>5.135639</td>\n",
              "      <td>4.617063</td>\n",
              "      <td>3.294196</td>\n",
              "      <td>4.250382</td>\n",
              "      <td>4.551289</td>\n",
              "    </tr>\n",
              "    <tr>\n",
              "      <th>5756</th>\n",
              "      <td>44.003258</td>\n",
              "      <td>0.998371</td>\n",
              "      <td>1.0</td>\n",
              "      <td>15.0</td>\n",
              "      <td>0.0</td>\n",
              "      <td>0.0</td>\n",
              "      <td>0.998371</td>\n",
              "      <td>0.0</td>\n",
              "      <td>5.451038</td>\n",
              "      <td>4.955498</td>\n",
              "      <td>4.653323</td>\n",
              "      <td>3.345553</td>\n",
              "      <td>4.330733</td>\n",
              "      <td>4.419352</td>\n",
              "    </tr>\n",
              "    <tr>\n",
              "      <th>5757</th>\n",
              "      <td>49.869513</td>\n",
              "      <td>0.000000</td>\n",
              "      <td>0.0</td>\n",
              "      <td>0.0</td>\n",
              "      <td>0.0</td>\n",
              "      <td>0.0</td>\n",
              "      <td>0.000000</td>\n",
              "      <td>0.0</td>\n",
              "      <td>5.269665</td>\n",
              "      <td>4.948178</td>\n",
              "      <td>4.463667</td>\n",
              "      <td>3.617439</td>\n",
              "      <td>4.128832</td>\n",
              "      <td>4.469840</td>\n",
              "    </tr>\n",
              "  </tbody>\n",
              "</table>\n",
              "<p>5758 rows × 14 columns</p>\n",
              "</div>"
            ],
            "text/plain": [
              "            age       sex  is_smoking  ...       BMI  heartRate   glucose\n",
              "0     64.000000  0.000000         1.0  ...  3.288214   4.510860  4.394449\n",
              "1     36.000000  1.000000         0.0  ...  3.426540   4.290459  4.330733\n",
              "2     46.000000  0.000000         1.0  ...  3.061052   4.488636  4.553877\n",
              "3     50.000000  1.000000         1.0  ...  3.376221   4.234107  4.553877\n",
              "4     64.000000  0.000000         1.0  ...  3.311273   4.262680  4.356709\n",
              "...         ...       ...         ...  ...       ...        ...       ...\n",
              "5753  58.050829  0.949171         1.0  ...  3.273959   4.520292  4.602928\n",
              "5754  52.689176  0.000000         0.0  ...  3.243182   4.163702  4.349315\n",
              "5755  55.264970  1.000000         0.0  ...  3.294196   4.250382  4.551289\n",
              "5756  44.003258  0.998371         1.0  ...  3.345553   4.330733  4.419352\n",
              "5757  49.869513  0.000000         0.0  ...  3.617439   4.128832  4.469840\n",
              "\n",
              "[5758 rows x 14 columns]"
            ]
          },
          "metadata": {},
          "execution_count": 38
        }
      ]
    },
    {
      "cell_type": "code",
      "metadata": {
        "id": "cgVZondfzaNi"
      },
      "source": [
        "#applying StandardScalar \n",
        "from sklearn.preprocessing import StandardScaler\n",
        "ss=StandardScaler()"
      ],
      "execution_count": 39,
      "outputs": []
    },
    {
      "cell_type": "code",
      "metadata": {
        "id": "65Panq08zaQp"
      },
      "source": [
        "df=ss.fit_transform(newdf)\n",
        "df=pd.DataFrame(df,columns=['age','sex','is_smoking','cigsPerDay','BPMeds','prevalentStroke','prevalentHyp','diabetes','totChol','sysBP','diaBP','BMI','heartRate','glucose'])"
      ],
      "execution_count": 40,
      "outputs": []
    },
    {
      "cell_type": "code",
      "metadata": {
        "colab": {
          "base_uri": "https://localhost:8080/",
          "height": 417
        },
        "id": "j8SuV__qOPmD",
        "outputId": "2168ec66-b2b8-4bfa-d321-da41219c5b68"
      },
      "source": [
        "df"
      ],
      "execution_count": 41,
      "outputs": [
        {
          "output_type": "execute_result",
          "data": {
            "text/html": [
              "<div>\n",
              "<style scoped>\n",
              "    .dataframe tbody tr th:only-of-type {\n",
              "        vertical-align: middle;\n",
              "    }\n",
              "\n",
              "    .dataframe tbody tr th {\n",
              "        vertical-align: top;\n",
              "    }\n",
              "\n",
              "    .dataframe thead th {\n",
              "        text-align: right;\n",
              "    }\n",
              "</style>\n",
              "<table border=\"1\" class=\"dataframe\">\n",
              "  <thead>\n",
              "    <tr style=\"text-align: right;\">\n",
              "      <th></th>\n",
              "      <th>age</th>\n",
              "      <th>sex</th>\n",
              "      <th>is_smoking</th>\n",
              "      <th>cigsPerDay</th>\n",
              "      <th>BPMeds</th>\n",
              "      <th>prevalentStroke</th>\n",
              "      <th>prevalentHyp</th>\n",
              "      <th>diabetes</th>\n",
              "      <th>totChol</th>\n",
              "      <th>sysBP</th>\n",
              "      <th>diaBP</th>\n",
              "      <th>BMI</th>\n",
              "      <th>heartRate</th>\n",
              "      <th>glucose</th>\n",
              "    </tr>\n",
              "  </thead>\n",
              "  <tbody>\n",
              "    <tr>\n",
              "      <th>0</th>\n",
              "      <td>1.471984</td>\n",
              "      <td>-0.983421</td>\n",
              "      <td>0.983617</td>\n",
              "      <td>-0.547167</td>\n",
              "      <td>-0.210976</td>\n",
              "      <td>-0.103812</td>\n",
              "      <td>-0.825656</td>\n",
              "      <td>-0.200047</td>\n",
              "      <td>-0.381943</td>\n",
              "      <td>0.584817</td>\n",
              "      <td>0.130720</td>\n",
              "      <td>0.018945</td>\n",
              "      <td>1.264313</td>\n",
              "      <td>-0.079428</td>\n",
              "    </tr>\n",
              "    <tr>\n",
              "      <th>1</th>\n",
              "      <td>-1.784740</td>\n",
              "      <td>1.091205</td>\n",
              "      <td>-1.023212</td>\n",
              "      <td>-0.789981</td>\n",
              "      <td>-0.210976</td>\n",
              "      <td>-0.103812</td>\n",
              "      <td>1.310315</td>\n",
              "      <td>-0.200047</td>\n",
              "      <td>-0.615320</td>\n",
              "      <td>1.377049</td>\n",
              "      <td>1.135208</td>\n",
              "      <td>0.994474</td>\n",
              "      <td>-0.294246</td>\n",
              "      <td>-0.390302</td>\n",
              "    </tr>\n",
              "    <tr>\n",
              "      <th>2</th>\n",
              "      <td>-0.621625</td>\n",
              "      <td>-0.983421</td>\n",
              "      <td>0.983617</td>\n",
              "      <td>0.019401</td>\n",
              "      <td>-0.210976</td>\n",
              "      <td>-0.103812</td>\n",
              "      <td>-0.825656</td>\n",
              "      <td>-0.200047</td>\n",
              "      <td>0.310405</td>\n",
              "      <td>-0.935915</td>\n",
              "      <td>-1.137131</td>\n",
              "      <td>-1.583089</td>\n",
              "      <td>1.107162</td>\n",
              "      <td>0.698433</td>\n",
              "    </tr>\n",
              "    <tr>\n",
              "      <th>3</th>\n",
              "      <td>-0.156378</td>\n",
              "      <td>1.091205</td>\n",
              "      <td>0.983617</td>\n",
              "      <td>0.828783</td>\n",
              "      <td>-0.210976</td>\n",
              "      <td>-0.103812</td>\n",
              "      <td>1.310315</td>\n",
              "      <td>-0.200047</td>\n",
              "      <td>-0.085078</td>\n",
              "      <td>0.993398</td>\n",
              "      <td>0.375391</td>\n",
              "      <td>0.639606</td>\n",
              "      <td>-0.692746</td>\n",
              "      <td>0.698433</td>\n",
              "    </tr>\n",
              "    <tr>\n",
              "      <th>4</th>\n",
              "      <td>1.471984</td>\n",
              "      <td>-0.983421</td>\n",
              "      <td>0.983617</td>\n",
              "      <td>1.638166</td>\n",
              "      <td>-0.210976</td>\n",
              "      <td>-0.103812</td>\n",
              "      <td>-0.825656</td>\n",
              "      <td>-0.200047</td>\n",
              "      <td>0.104491</td>\n",
              "      <td>0.079595</td>\n",
              "      <td>0.130720</td>\n",
              "      <td>0.181564</td>\n",
              "      <td>-0.490689</td>\n",
              "      <td>-0.263566</td>\n",
              "    </tr>\n",
              "    <tr>\n",
              "      <th>...</th>\n",
              "      <td>...</td>\n",
              "      <td>...</td>\n",
              "      <td>...</td>\n",
              "      <td>...</td>\n",
              "      <td>...</td>\n",
              "      <td>...</td>\n",
              "      <td>...</td>\n",
              "      <td>...</td>\n",
              "      <td>...</td>\n",
              "      <td>...</td>\n",
              "      <td>...</td>\n",
              "      <td>...</td>\n",
              "      <td>...</td>\n",
              "      <td>...</td>\n",
              "    </tr>\n",
              "    <tr>\n",
              "      <th>5753</th>\n",
              "      <td>0.780026</td>\n",
              "      <td>0.985755</td>\n",
              "      <td>0.983617</td>\n",
              "      <td>0.424092</td>\n",
              "      <td>-0.210976</td>\n",
              "      <td>-0.103812</td>\n",
              "      <td>-0.717087</td>\n",
              "      <td>-0.200047</td>\n",
              "      <td>0.485844</td>\n",
              "      <td>0.913777</td>\n",
              "      <td>0.281417</td>\n",
              "      <td>-0.081588</td>\n",
              "      <td>1.331014</td>\n",
              "      <td>0.937754</td>\n",
              "    </tr>\n",
              "    <tr>\n",
              "      <th>5754</th>\n",
              "      <td>0.156404</td>\n",
              "      <td>-0.983421</td>\n",
              "      <td>-1.023212</td>\n",
              "      <td>-0.789981</td>\n",
              "      <td>-0.210976</td>\n",
              "      <td>-0.103812</td>\n",
              "      <td>-0.825656</td>\n",
              "      <td>-0.200047</td>\n",
              "      <td>2.287250</td>\n",
              "      <td>-0.626399</td>\n",
              "      <td>0.040646</td>\n",
              "      <td>-0.298635</td>\n",
              "      <td>-1.190611</td>\n",
              "      <td>-0.299642</td>\n",
              "    </tr>\n",
              "    <tr>\n",
              "      <th>5755</th>\n",
              "      <td>0.455999</td>\n",
              "      <td>1.091205</td>\n",
              "      <td>-1.023212</td>\n",
              "      <td>-0.789981</td>\n",
              "      <td>-0.210976</td>\n",
              "      <td>-0.103812</td>\n",
              "      <td>1.310315</td>\n",
              "      <td>-0.200047</td>\n",
              "      <td>-1.470341</td>\n",
              "      <td>1.413158</td>\n",
              "      <td>1.291782</td>\n",
              "      <td>0.061133</td>\n",
              "      <td>-0.577652</td>\n",
              "      <td>0.685804</td>\n",
              "    </tr>\n",
              "    <tr>\n",
              "      <th>5756</th>\n",
              "      <td>-0.853869</td>\n",
              "      <td>1.087826</td>\n",
              "      <td>0.983617</td>\n",
              "      <td>0.424092</td>\n",
              "      <td>-0.210976</td>\n",
              "      <td>-0.103812</td>\n",
              "      <td>1.306836</td>\n",
              "      <td>-0.200047</td>\n",
              "      <td>-0.109228</td>\n",
              "      <td>0.280078</td>\n",
              "      <td>1.550519</td>\n",
              "      <td>0.423323</td>\n",
              "      <td>-0.009449</td>\n",
              "      <td>0.042076</td>\n",
              "    </tr>\n",
              "    <tr>\n",
              "      <th>5757</th>\n",
              "      <td>-0.171556</td>\n",
              "      <td>-0.983421</td>\n",
              "      <td>-1.023212</td>\n",
              "      <td>-0.789981</td>\n",
              "      <td>-0.210976</td>\n",
              "      <td>-0.103812</td>\n",
              "      <td>-0.825656</td>\n",
              "      <td>-0.200047</td>\n",
              "      <td>-1.132018</td>\n",
              "      <td>0.234035</td>\n",
              "      <td>0.197224</td>\n",
              "      <td>2.340763</td>\n",
              "      <td>-1.437197</td>\n",
              "      <td>0.288409</td>\n",
              "    </tr>\n",
              "  </tbody>\n",
              "</table>\n",
              "<p>5758 rows × 14 columns</p>\n",
              "</div>"
            ],
            "text/plain": [
              "           age       sex  is_smoking  ...       BMI  heartRate   glucose\n",
              "0     1.471984 -0.983421    0.983617  ...  0.018945   1.264313 -0.079428\n",
              "1    -1.784740  1.091205   -1.023212  ...  0.994474  -0.294246 -0.390302\n",
              "2    -0.621625 -0.983421    0.983617  ... -1.583089   1.107162  0.698433\n",
              "3    -0.156378  1.091205    0.983617  ...  0.639606  -0.692746  0.698433\n",
              "4     1.471984 -0.983421    0.983617  ...  0.181564  -0.490689 -0.263566\n",
              "...        ...       ...         ...  ...       ...        ...       ...\n",
              "5753  0.780026  0.985755    0.983617  ... -0.081588   1.331014  0.937754\n",
              "5754  0.156404 -0.983421   -1.023212  ... -0.298635  -1.190611 -0.299642\n",
              "5755  0.455999  1.091205   -1.023212  ...  0.061133  -0.577652  0.685804\n",
              "5756 -0.853869  1.087826    0.983617  ...  0.423323  -0.009449  0.042076\n",
              "5757 -0.171556 -0.983421   -1.023212  ...  2.340763  -1.437197  0.288409\n",
              "\n",
              "[5758 rows x 14 columns]"
            ]
          },
          "metadata": {},
          "execution_count": 41
        }
      ]
    },
    {
      "cell_type": "code",
      "metadata": {
        "id": "Sd4U0x46OcMp"
      },
      "source": [
        "df['TenTearCHD']=y"
      ],
      "execution_count": 42,
      "outputs": []
    },
    {
      "cell_type": "code",
      "metadata": {
        "colab": {
          "base_uri": "https://localhost:8080/",
          "height": 203
        },
        "id": "bZXNbk2sOgxO",
        "outputId": "6a0c1039-6199-4837-994a-7c8c5ba3f1bd"
      },
      "source": [
        "df.head()"
      ],
      "execution_count": 43,
      "outputs": [
        {
          "output_type": "execute_result",
          "data": {
            "text/html": [
              "<div>\n",
              "<style scoped>\n",
              "    .dataframe tbody tr th:only-of-type {\n",
              "        vertical-align: middle;\n",
              "    }\n",
              "\n",
              "    .dataframe tbody tr th {\n",
              "        vertical-align: top;\n",
              "    }\n",
              "\n",
              "    .dataframe thead th {\n",
              "        text-align: right;\n",
              "    }\n",
              "</style>\n",
              "<table border=\"1\" class=\"dataframe\">\n",
              "  <thead>\n",
              "    <tr style=\"text-align: right;\">\n",
              "      <th></th>\n",
              "      <th>age</th>\n",
              "      <th>sex</th>\n",
              "      <th>is_smoking</th>\n",
              "      <th>cigsPerDay</th>\n",
              "      <th>BPMeds</th>\n",
              "      <th>prevalentStroke</th>\n",
              "      <th>prevalentHyp</th>\n",
              "      <th>diabetes</th>\n",
              "      <th>totChol</th>\n",
              "      <th>sysBP</th>\n",
              "      <th>diaBP</th>\n",
              "      <th>BMI</th>\n",
              "      <th>heartRate</th>\n",
              "      <th>glucose</th>\n",
              "      <th>TenTearCHD</th>\n",
              "    </tr>\n",
              "  </thead>\n",
              "  <tbody>\n",
              "    <tr>\n",
              "      <th>0</th>\n",
              "      <td>1.471984</td>\n",
              "      <td>-0.983421</td>\n",
              "      <td>0.983617</td>\n",
              "      <td>-0.547167</td>\n",
              "      <td>-0.210976</td>\n",
              "      <td>-0.103812</td>\n",
              "      <td>-0.825656</td>\n",
              "      <td>-0.200047</td>\n",
              "      <td>-0.381943</td>\n",
              "      <td>0.584817</td>\n",
              "      <td>0.130720</td>\n",
              "      <td>0.018945</td>\n",
              "      <td>1.264313</td>\n",
              "      <td>-0.079428</td>\n",
              "      <td>1</td>\n",
              "    </tr>\n",
              "    <tr>\n",
              "      <th>1</th>\n",
              "      <td>-1.784740</td>\n",
              "      <td>1.091205</td>\n",
              "      <td>-1.023212</td>\n",
              "      <td>-0.789981</td>\n",
              "      <td>-0.210976</td>\n",
              "      <td>-0.103812</td>\n",
              "      <td>1.310315</td>\n",
              "      <td>-0.200047</td>\n",
              "      <td>-0.615320</td>\n",
              "      <td>1.377049</td>\n",
              "      <td>1.135208</td>\n",
              "      <td>0.994474</td>\n",
              "      <td>-0.294246</td>\n",
              "      <td>-0.390302</td>\n",
              "      <td>0</td>\n",
              "    </tr>\n",
              "    <tr>\n",
              "      <th>2</th>\n",
              "      <td>-0.621625</td>\n",
              "      <td>-0.983421</td>\n",
              "      <td>0.983617</td>\n",
              "      <td>0.019401</td>\n",
              "      <td>-0.210976</td>\n",
              "      <td>-0.103812</td>\n",
              "      <td>-0.825656</td>\n",
              "      <td>-0.200047</td>\n",
              "      <td>0.310405</td>\n",
              "      <td>-0.935915</td>\n",
              "      <td>-1.137131</td>\n",
              "      <td>-1.583089</td>\n",
              "      <td>1.107162</td>\n",
              "      <td>0.698433</td>\n",
              "      <td>0</td>\n",
              "    </tr>\n",
              "    <tr>\n",
              "      <th>3</th>\n",
              "      <td>-0.156378</td>\n",
              "      <td>1.091205</td>\n",
              "      <td>0.983617</td>\n",
              "      <td>0.828783</td>\n",
              "      <td>-0.210976</td>\n",
              "      <td>-0.103812</td>\n",
              "      <td>1.310315</td>\n",
              "      <td>-0.200047</td>\n",
              "      <td>-0.085078</td>\n",
              "      <td>0.993398</td>\n",
              "      <td>0.375391</td>\n",
              "      <td>0.639606</td>\n",
              "      <td>-0.692746</td>\n",
              "      <td>0.698433</td>\n",
              "      <td>1</td>\n",
              "    </tr>\n",
              "    <tr>\n",
              "      <th>4</th>\n",
              "      <td>1.471984</td>\n",
              "      <td>-0.983421</td>\n",
              "      <td>0.983617</td>\n",
              "      <td>1.638166</td>\n",
              "      <td>-0.210976</td>\n",
              "      <td>-0.103812</td>\n",
              "      <td>-0.825656</td>\n",
              "      <td>-0.200047</td>\n",
              "      <td>0.104491</td>\n",
              "      <td>0.079595</td>\n",
              "      <td>0.130720</td>\n",
              "      <td>0.181564</td>\n",
              "      <td>-0.490689</td>\n",
              "      <td>-0.263566</td>\n",
              "      <td>0</td>\n",
              "    </tr>\n",
              "  </tbody>\n",
              "</table>\n",
              "</div>"
            ],
            "text/plain": [
              "        age       sex  is_smoking  ...  heartRate   glucose  TenTearCHD\n",
              "0  1.471984 -0.983421    0.983617  ...   1.264313 -0.079428           1\n",
              "1 -1.784740  1.091205   -1.023212  ...  -0.294246 -0.390302           0\n",
              "2 -0.621625 -0.983421    0.983617  ...   1.107162  0.698433           0\n",
              "3 -0.156378  1.091205    0.983617  ...  -0.692746  0.698433           1\n",
              "4  1.471984 -0.983421    0.983617  ...  -0.490689 -0.263566           0\n",
              "\n",
              "[5 rows x 15 columns]"
            ]
          },
          "metadata": {},
          "execution_count": 43
        }
      ]
    },
    {
      "cell_type": "code",
      "metadata": {
        "id": "tF5WWz3EO9uT"
      },
      "source": [
        "#Splitting the data into train and test data\n",
        "from sklearn.model_selection import train_test_split\n",
        "x=df.iloc[:,:-1]\n",
        "y=df.iloc[:,-1:]"
      ],
      "execution_count": 44,
      "outputs": []
    },
    {
      "cell_type": "code",
      "metadata": {
        "id": "zo8z3UU7O9w5"
      },
      "source": [
        "xtrain,xtest,ytrain,ytest=train_test_split(x,y,random_state = 5)\n"
      ],
      "execution_count": 45,
      "outputs": []
    },
    {
      "cell_type": "markdown",
      "metadata": {
        "id": "ZB8UFfQUxZ4V"
      },
      "source": [
        "# **Logistic Regression Model**"
      ]
    },
    {
      "cell_type": "code",
      "metadata": {
        "colab": {
          "base_uri": "https://localhost:8080/"
        },
        "id": "OBT8MtiSO9yg",
        "outputId": "b95c6f64-cc0a-447b-8719-1d25fde1a4d5"
      },
      "source": [
        "from sklearn.linear_model import LogisticRegression\n",
        "lr=LogisticRegression()\n",
        "lr.fit(xtrain,ytrain)\n"
      ],
      "execution_count": 47,
      "outputs": [
        {
          "output_type": "execute_result",
          "data": {
            "text/plain": [
              "LogisticRegression(C=1.0, class_weight=None, dual=False, fit_intercept=True,\n",
              "                   intercept_scaling=1, l1_ratio=None, max_iter=100,\n",
              "                   multi_class='auto', n_jobs=None, penalty='l2',\n",
              "                   random_state=None, solver='lbfgs', tol=0.0001, verbose=0,\n",
              "                   warm_start=False)"
            ]
          },
          "metadata": {},
          "execution_count": 47
        }
      ]
    },
    {
      "cell_type": "code",
      "metadata": {
        "id": "O0BzUd3dO90e"
      },
      "source": [
        "predict=lr.predict(xtest)"
      ],
      "execution_count": 48,
      "outputs": []
    },
    {
      "cell_type": "code",
      "metadata": {
        "colab": {
          "base_uri": "https://localhost:8080/"
        },
        "id": "_nP7X0w_O92Y",
        "outputId": "465d315d-f265-4ac6-b5d6-b74e97bb1246"
      },
      "source": [
        "#Evaluating the logistic regression using the metrics\n",
        "print (\"The accuracy of Logistic Regression is : \", accuracy_score(ytest, predict)*100, \"%\")\n",
        "print (\"The precision of Logistic Regression is : \", precision_score(ytest, predict)*100, \"%\")\n",
        "print (\"The recall of Logistic Regression is : \", recall_score(ytest, predict)*100, \"%\")\n"
      ],
      "execution_count": 49,
      "outputs": [
        {
          "output_type": "stream",
          "name": "stdout",
          "text": [
            "The accuracy of Logistic Regression is :  66.66666666666666 %\n",
            "The precision of Logistic Regression is :  67.2153635116598 %\n",
            "The recall of Logistic Regression is :  67.03146374829001 %\n"
          ]
        }
      ]
    },
    {
      "cell_type": "code",
      "metadata": {
        "colab": {
          "base_uri": "https://localhost:8080/"
        },
        "id": "2Gg6OWZYO96H",
        "outputId": "290db9c8-77ed-4538-a615-6a551a1dfe76"
      },
      "source": [
        "print(\"The confusion matrix of Logistic Regression is:\\n\",confusion_matrix(ytest,predict))"
      ],
      "execution_count": 50,
      "outputs": [
        {
          "output_type": "stream",
          "name": "stdout",
          "text": [
            "The confusion matrix of Logistic Regression is:\n",
            " [[470 239]\n",
            " [241 490]]\n"
          ]
        }
      ]
    },
    {
      "cell_type": "code",
      "metadata": {
        "id": "WznWd5DOV5kK"
      },
      "source": [
        "#Hyper parameter tunning\n",
        "from sklearn.model_selection import RepeatedStratifiedKFold\n",
        "from sklearn.model_selection import GridSearchCV"
      ],
      "execution_count": 51,
      "outputs": []
    },
    {
      "cell_type": "code",
      "metadata": {
        "id": "EcQ503WtVwVB"
      },
      "source": [
        "solvers = ['newton-cg', 'lbfgs', 'liblinear']\n",
        "penalty = ['l2']\n",
        "c_values = [100, 10, 1.0, 0.1, 0.01]\n",
        "grid = dict(solver=solvers,penalty=penalty,C=c_values)\n",
        "cv = RepeatedStratifiedKFold(n_splits=10, n_repeats=3, random_state=5)\n",
        "grid_search = GridSearchCV(estimator=lr, param_grid=grid, n_jobs=-1, cv=cv, scoring='accuracy',error_score=0)"
      ],
      "execution_count": 52,
      "outputs": []
    },
    {
      "cell_type": "code",
      "metadata": {
        "colab": {
          "base_uri": "https://localhost:8080/"
        },
        "id": "J5APCT5NVwXm",
        "outputId": "f99075de-649c-4f06-98ad-a4f4939579a1"
      },
      "source": [
        "grid_result = grid_search.fit(xtrain,ytrain)\n",
        "print(\"Best: %f using %s\" % (grid_result.best_score_, grid_result.best_params_))"
      ],
      "execution_count": 53,
      "outputs": [
        {
          "output_type": "stream",
          "name": "stdout",
          "text": [
            "Best: 0.668214 using {'C': 1.0, 'penalty': 'l2', 'solver': 'newton-cg'}\n"
          ]
        }
      ]
    },
    {
      "cell_type": "code",
      "metadata": {
        "colab": {
          "base_uri": "https://localhost:8080/"
        },
        "id": "-5EnQmq__I5V",
        "outputId": "7c8140fb-8ab9-4e1f-e28d-4c321ba44179"
      },
      "source": [
        "optimal_logistic=grid_result.best_estimator_\n",
        "op_train_pred=optimal_logistic.predict(xtrain)\n",
        "op_test_pred=optimal_logistic.predict(xtest)\n",
        "print('Accuracy of train data:',accuracy_score(op_train_pred,ytrain))\n",
        "print('Accuracy of test data:',accuracy_score(op_test_pred,ytest))"
      ],
      "execution_count": 60,
      "outputs": [
        {
          "output_type": "stream",
          "name": "stdout",
          "text": [
            "Accuracy of train data: 0.6711440481704493\n",
            "Accuracy of test data: 0.6666666666666666\n"
          ]
        }
      ]
    },
    {
      "cell_type": "markdown",
      "metadata": {
        "id": "6fm-98IUyBd_"
      },
      "source": [
        "# **KNearestNeigbors Model**"
      ]
    },
    {
      "cell_type": "code",
      "metadata": {
        "id": "tz7bg8WHc13A"
      },
      "source": [
        "# Import KNeighborsClassifier\n",
        "from sklearn.neighbors import KNeighborsClassifier\n",
        "\n",
        "\n",
        "neighbors = np.arange(1,12)\n",
        "train_accuracy =np.empty(len(neighbors))\n",
        "test_accuracy = np.empty(len(neighbors))\n",
        "\n",
        "for i,k in enumerate(neighbors):\n",
        "    # Setup a knn classifier with k neighbors\n",
        "    knn = KNeighborsClassifier(n_neighbors=k)\n",
        "    \n",
        "    # Fit the model\n",
        "    knn.fit(xtrain, ytrain)\n",
        "    \n",
        "    # Compute accuracy on the training set\n",
        "    train_accuracy[i] = knn.score(xtrain, ytrain)\n",
        "    \n",
        "    # Compute accuracy on the test set\n",
        "    test_accuracy[i] = knn.score(xtest, ytest) "
      ],
      "execution_count": 83,
      "outputs": []
    },
    {
      "cell_type": "code",
      "metadata": {
        "colab": {
          "base_uri": "https://localhost:8080/",
          "height": 295
        },
        "id": "4JJYQp_6fF3k",
        "outputId": "64a46b70-2982-45db-c192-d92c43fd4df6"
      },
      "source": [
        "# Generate the plot between test accuracy and train accuracy to determine k value\n",
        "plt.title('k-NN Varying number of neighbors')\n",
        "plt.plot(neighbors, test_accuracy, label='Testing Accuracy')\n",
        "plt.plot(neighbors, train_accuracy, label='Training accuracy')\n",
        "plt.legend()\n",
        "plt.xlabel('Number of neighbors')\n",
        "plt.ylabel('Accuracy')\n",
        "plt.show()"
      ],
      "execution_count": 84,
      "outputs": [
        {
          "output_type": "display_data",
          "data": {
            "image/png": "[encoded data removed]",
            "text/plain": [
              "<Figure size 432x288 with 1 Axes>"
            ]
          },
          "metadata": {
            "needs_background": "light"
          }
        }
      ]
    },
    {
      "cell_type": "code",
      "metadata": {
        "colab": {
          "base_uri": "https://localhost:8080/"
        },
        "id": "yqGSyGKtfTcz",
        "outputId": "7769599c-8514-4652-f39f-791ec52023df"
      },
      "source": [
        "#Fitting the model\n",
        "knn = KNeighborsClassifier(n_neighbors=9)\n",
        "knn.fit(xtrain,ytrain)"
      ],
      "execution_count": 85,
      "outputs": [
        {
          "output_type": "execute_result",
          "data": {
            "text/plain": [
              "KNeighborsClassifier(algorithm='auto', leaf_size=30, metric='minkowski',\n",
              "                     metric_params=None, n_jobs=None, n_neighbors=9, p=2,\n",
              "                     weights='uniform')"
            ]
          },
          "metadata": {},
          "execution_count": 85
        }
      ]
    },
    {
      "cell_type": "code",
      "metadata": {
        "id": "KekLecBKtfYy"
      },
      "source": [
        "y_pred = knn.predict(xtest)"
      ],
      "execution_count": 86,
      "outputs": []
    },
    {
      "cell_type": "code",
      "metadata": {
        "colab": {
          "base_uri": "https://localhost:8080/"
        },
        "id": "U3QxuF-0fTlA",
        "outputId": "8fc0d63f-55ce-4da8-e503-7cc9e990ca57"
      },
      "source": [
        "#Evaluating the KNN model using the metrics\n",
        "print(\"The accuracy of KNN model is :\",knn.score(xtest,ytest)*100,\"%\")\n",
        "print(\"The recall of KNN model is :\",recall_score(ytest,y_pred)*100,'%')\n",
        "print(\"The precision of KNN model is :\",precision_score(ytest,y_pred)*100,'%')\n"
      ],
      "execution_count": 87,
      "outputs": [
        {
          "output_type": "stream",
          "name": "stdout",
          "text": [
            "The accuracy of KNN model is : 77.43055555555556 %\n",
            "The recall of KNN model is : 87.84722222222221 %\n",
            "The precision of KNN model is : 72.70114942528735 %\n"
          ]
        }
      ]
    },
    {
      "cell_type": "code",
      "metadata": {
        "colab": {
          "base_uri": "https://localhost:8080/"
        },
        "id": "oOKCo_-Wf6D9",
        "outputId": "2d680153-092a-48e8-e483-d1b5ee4c7fc9"
      },
      "source": [
        "#Hyper parameter tunning\n",
        "param_grid = {'n_neighbors':np.arange(13,20)}\n",
        "knn = KNeighborsClassifier()\n",
        "knn_cv= GridSearchCV(knn,param_grid,cv=5)\n",
        "knn_cv.fit(xtrain,ytrain)"
      ],
      "execution_count": 129,
      "outputs": [
        {
          "output_type": "execute_result",
          "data": {
            "text/plain": [
              "GridSearchCV(cv=5, error_score=nan,\n",
              "             estimator=KNeighborsClassifier(algorithm='auto', leaf_size=30,\n",
              "                                            metric='minkowski',\n",
              "                                            metric_params=None, n_jobs=None,\n",
              "                                            n_neighbors=5, p=2,\n",
              "                                            weights='uniform'),\n",
              "             iid='deprecated', n_jobs=None,\n",
              "             param_grid={'n_neighbors': array([13, 14, 15, 16, 17, 18, 19])},\n",
              "             pre_dispatch='2*n_jobs', refit=True, return_train_score=False,\n",
              "             scoring=None, verbose=0)"
            ]
          },
          "metadata": {},
          "execution_count": 129
        }
      ]
    },
    {
      "cell_type": "code",
      "metadata": {
        "colab": {
          "base_uri": "https://localhost:8080/"
        },
        "id": "DpzOrG6ef6Hg",
        "outputId": "6c3bac43-733b-4c41-d12e-95c52822f271"
      },
      "source": [
        "knn_cv.best_score_"
      ],
      "execution_count": 130,
      "outputs": [
        {
          "output_type": "execute_result",
          "data": {
            "text/plain": [
              "0.7338265254450859"
            ]
          },
          "metadata": {},
          "execution_count": 130
        }
      ]
    },
    {
      "cell_type": "code",
      "metadata": {
        "colab": {
          "base_uri": "https://localhost:8080/"
        },
        "id": "BgML3GixfT2O",
        "outputId": "fd6d4f45-de01-4521-dfa8-c03191ab3989"
      },
      "source": [
        "knn_cv.best_params_"
      ],
      "execution_count": 131,
      "outputs": [
        {
          "output_type": "execute_result",
          "data": {
            "text/plain": [
              "{'n_neighbors': 14}"
            ]
          },
          "metadata": {},
          "execution_count": 131
        }
      ]
    },
    {
      "cell_type": "code",
      "metadata": {
        "colab": {
          "base_uri": "https://localhost:8080/"
        },
        "id": "Ti31w-q_Bp0j",
        "outputId": "0491aec8-3a35-4ccd-a03c-7fb478844914"
      },
      "source": [
        "kOptimal_model=knn_cv.best_estimator_\n",
        "kop_train_pred=kOptimal_model.predict(xtrain)\n",
        "kop_test_pred=kOptimal_model.predict(xtest)\n",
        "\n",
        "print('Accuracy of train data:',accuracy_score(kop_train_pred,ytrain))\n",
        "print('Accuracy of test data:',accuracy_score(kop_test_pred,ytest))"
      ],
      "execution_count": 132,
      "outputs": [
        {
          "output_type": "stream",
          "name": "stdout",
          "text": [
            "Accuracy of train data: 0.7948328267477204\n",
            "Accuracy of test data: 0.7508680555555556\n"
          ]
        }
      ]
    },
    {
      "cell_type": "code",
      "metadata": {
        "id": "lbQ45J3BBp4M"
      },
      "source": [
        ""
      ],
      "execution_count": 70,
      "outputs": []
    },
    {
      "cell_type": "code",
      "metadata": {
        "id": "fnjPkJbyfGDH"
      },
      "source": [
        "xtrain, xtest, ytrain, ytest = train_test_split(x, y, test_size = 0.2, random_state = 0, stratify = y)"
      ],
      "execution_count": 133,
      "outputs": []
    },
    {
      "cell_type": "markdown",
      "metadata": {
        "id": "9OB0sw_8yxB7"
      },
      "source": [
        "# **Random Forest Classifier Model**"
      ]
    },
    {
      "cell_type": "code",
      "metadata": {
        "id": "O_05PCE01h_q"
      },
      "source": [
        "from sklearn.ensemble import RandomForestClassifier"
      ],
      "execution_count": 134,
      "outputs": []
    },
    {
      "cell_type": "code",
      "metadata": {
        "id": "6mu16D7hk7Md"
      },
      "source": [
        "rf = RandomForestClassifier(random_state=0) \n",
        "grid_values = {'n_estimators':[50, 80,100], 'max_depth':[3,5,6]}\n",
        "rf = GridSearchCV(estimator=rf, param_grid = grid_values, scoring = 'accuracy', cv=5)"
      ],
      "execution_count": 151,
      "outputs": []
    },
    {
      "cell_type": "code",
      "metadata": {
        "colab": {
          "base_uri": "https://localhost:8080/"
        },
        "id": "BFZ6hjpik7Vy",
        "outputId": "75c36e7a-3297-4366-ec61-0146360237ff"
      },
      "source": [
        "rf.fit(xtrain,ytrain)"
      ],
      "execution_count": 152,
      "outputs": [
        {
          "output_type": "execute_result",
          "data": {
            "text/plain": [
              "GridSearchCV(cv=5, error_score=nan,\n",
              "             estimator=RandomForestClassifier(bootstrap=True, ccp_alpha=0.0,\n",
              "                                              class_weight=None,\n",
              "                                              criterion='gini', max_depth=None,\n",
              "                                              max_features='auto',\n",
              "                                              max_leaf_nodes=None,\n",
              "                                              max_samples=None,\n",
              "                                              min_impurity_decrease=0.0,\n",
              "                                              min_impurity_split=None,\n",
              "                                              min_samples_leaf=1,\n",
              "                                              min_samples_split=2,\n",
              "                                              min_weight_fraction_leaf=0.0,\n",
              "                                              n_estimators=100, n_jobs=None,\n",
              "                                              oob_score=False, random_state=0,\n",
              "                                              verbose=0, warm_start=False),\n",
              "             iid='deprecated', n_jobs=None,\n",
              "             param_grid={'max_depth': [3, 5, 6], 'n_estimators': [50, 80, 100]},\n",
              "             pre_dispatch='2*n_jobs', refit=True, return_train_score=False,\n",
              "             scoring='accuracy', verbose=0)"
            ]
          },
          "metadata": {},
          "execution_count": 152
        }
      ]
    },
    {
      "cell_type": "code",
      "metadata": {
        "id": "g5DmYq9r0-q0"
      },
      "source": [
        "rpred=rf.predict(xtest)"
      ],
      "execution_count": 153,
      "outputs": []
    },
    {
      "cell_type": "code",
      "metadata": {
        "colab": {
          "base_uri": "https://localhost:8080/"
        },
        "id": "jnddsPJD07wG",
        "outputId": "d3c4c0d5-36ea-49d2-c70f-1eefa61b905e"
      },
      "source": [
        "print(\"The accuracy score of RandomForestClassifier is:\",accuracy_score(ytest,rpred)*100,'%')\n",
        "print(\"The precision of RandomForestClassifier is:\",precision_score(ytest,rpred)*100,'%')\n",
        "print(\"The recall of RandomForestClassifier is:\",recall_score(ytest,rpred)*100,'%')\n",
        "\n"
      ],
      "execution_count": 161,
      "outputs": [
        {
          "output_type": "stream",
          "name": "stdout",
          "text": [
            "The accuracy score of RandomForestClassifier is: 78.64583333333334 %\n",
            "The precision of RandomForestClassifier is: 78.64583333333334 %\n",
            "The recall of RandomForestClassifier is: 78.64583333333334 %\n"
          ]
        }
      ]
    },
    {
      "cell_type": "code",
      "metadata": {
        "colab": {
          "base_uri": "https://localhost:8080/"
        },
        "id": "jj45Ugjj1Z3A",
        "outputId": "89f9ffdf-9377-4a24-b49a-53acc7beca53"
      },
      "source": [
        "print(\"The confusion matrix for RandomForestClassifier is:\\n\",confusion_matrix(ytest,rpred))"
      ],
      "execution_count": 155,
      "outputs": [
        {
          "output_type": "stream",
          "name": "stdout",
          "text": [
            "The confusion matrix for RandomForestClassifier is:\n",
            " [[453 123]\n",
            " [123 453]]\n"
          ]
        }
      ]
    },
    {
      "cell_type": "code",
      "metadata": {
        "colab": {
          "base_uri": "https://localhost:8080/"
        },
        "id": "TZ6zGk1Cm6sQ",
        "outputId": "50c58c70-126c-47b6-8bdb-46b4f8599dc0"
      },
      "source": [
        "rf.best_params_"
      ],
      "execution_count": 156,
      "outputs": [
        {
          "output_type": "execute_result",
          "data": {
            "text/plain": [
              "{'max_depth': 6, 'n_estimators': 50}"
            ]
          },
          "metadata": {},
          "execution_count": 156
        }
      ]
    },
    {
      "cell_type": "code",
      "metadata": {
        "colab": {
          "base_uri": "https://localhost:8080/"
        },
        "id": "qSlWCY07u43n",
        "outputId": "06b355d5-0d1b-4ee1-e005-06acff1652c8"
      },
      "source": [
        "rf.best_score_"
      ],
      "execution_count": 157,
      "outputs": [
        {
          "output_type": "execute_result",
          "data": {
            "text/plain": [
              "0.7642268495293006"
            ]
          },
          "metadata": {},
          "execution_count": 157
        }
      ]
    },
    {
      "cell_type": "code",
      "metadata": {
        "colab": {
          "base_uri": "https://localhost:8080/"
        },
        "id": "zndzrspnFRvA",
        "outputId": "fd6575d1-6f65-4a4e-ed61-840b71be4e0e"
      },
      "source": [
        "rfc_optimal_model=rf.best_estimator_\n",
        "rfcop_train_pred=rfc_optimal_model.predict(xtrain)\n",
        "rfcop_test_pred=rfc_optimal_model.predict(xtest)\n",
        "\n",
        "print('Accuracy of train data:',accuracy_score(rfcop_train_pred,ytrain))\n",
        "print('Accuracy of test data:',accuracy_score(rfcop_test_pred,ytest))"
      ],
      "execution_count": 160,
      "outputs": [
        {
          "output_type": "stream",
          "name": "stdout",
          "text": [
            "Accuracy of train data: 0.7954841511072515\n",
            "Accuracy of test data: 0.7864583333333334\n"
          ]
        }
      ]
    },
    {
      "cell_type": "code",
      "metadata": {
        "colab": {
          "base_uri": "https://localhost:8080/"
        },
        "id": "lXbfLJB2FR61",
        "outputId": "79b0702e-ee9b-4195-9bb2-65f459fd872c"
      },
      "source": [
        "rfc_optimal_model"
      ],
      "execution_count": 162,
      "outputs": [
        {
          "output_type": "execute_result",
          "data": {
            "text/plain": [
              "RandomForestClassifier(bootstrap=True, ccp_alpha=0.0, class_weight=None,\n",
              "                       criterion='gini', max_depth=6, max_features='auto',\n",
              "                       max_leaf_nodes=None, max_samples=None,\n",
              "                       min_impurity_decrease=0.0, min_impurity_split=None,\n",
              "                       min_samples_leaf=1, min_samples_split=2,\n",
              "                       min_weight_fraction_leaf=0.0, n_estimators=50,\n",
              "                       n_jobs=None, oob_score=False, random_state=0, verbose=0,\n",
              "                       warm_start=False)"
            ]
          },
          "metadata": {},
          "execution_count": 162
        }
      ]
    },
    {
      "cell_type": "markdown",
      "metadata": {
        "id": "V-9eYu9Sz9AK"
      },
      "source": [
        "#**Summary**\n",
        "\n",
        "\n",
        "## 1.Handled the majority of the null values by replacing with the mean values and dropped a single row which had null value in heartrate column.\n",
        "\n",
        "## 2.Treated the outliers using log tranformation.\n",
        "\n",
        "##3.Handled the imbalanced class by applying SMOTE technique.\n",
        "\n",
        "##4.Using StandardSCalar the data was scaled down.\n",
        "\n",
        "##5.Applied 3 machine learning model on the dataset i.e. \n",
        "###   -Logistic Regression\n",
        "###   -KNearestNeighbors\n",
        "###   -Random Forest Classifier\n",
        "\n",
        "##6.Performed hyper parameter tunnig on all the 3 machine learning models to get best parameters and best score.\n",
        "\n",
        "##7.Random Forest Classifier has the highest accuracy score among al the 3 model i.e. 78.6%.\n",
        "\n"
      ]
    }
  ]
}